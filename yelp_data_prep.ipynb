{
  "nbformat": 4,
  "nbformat_minor": 0,
  "metadata": {
    "colab": {
      "provenance": [],
      "collapsed_sections": [
        "htpNjVcCVQCu",
        "muIb4a6EVfeF"
      ]
    },
    "kernelspec": {
      "display_name": "Python 3",
      "name": "python3"
    },
    "gpuClass": "standard"
  },
  "cells": [
    {
      "cell_type": "code",
      "source": [
        "# MOUNTING GOOGLE DRIVE\n",
        "from google.colab import drive\n",
        "drive.mount('/content/drive')"
      ],
      "metadata": {
        "id": "tBteZwfOR0SQ",
        "colab": {
          "base_uri": "https://localhost:8080/"
        },
        "outputId": "c332015d-c470-4747-889c-af7412e8f397"
      },
      "execution_count": null,
      "outputs": [
        {
          "output_type": "stream",
          "name": "stdout",
          "text": [
            "Mounted at /content/drive\n"
          ]
        }
      ]
    },
    {
      "cell_type": "code",
      "source": [
        "# !python --version"
      ],
      "metadata": {
        "id": "pC-kme0fIURk",
        "colab": {
          "base_uri": "https://localhost:8080/"
        },
        "outputId": "4df2b04f-4ffe-4325-d19e-130c0d5d76ce"
      },
      "execution_count": null,
      "outputs": [
        {
          "output_type": "stream",
          "name": "stdout",
          "text": [
            "Python 3.9.16\n"
          ]
        }
      ]
    },
    {
      "cell_type": "code",
      "source": [
        "# import os\n",
        "\n",
        "# # Install java\n",
        "# ! apt-get install -y openjdk-8-jdk-headless -qq > /dev/null\n",
        "\n",
        "# os.environ[\"JAVA_HOME\"] = \"/usr/lib/jvm/java-8-openjdk-amd64\"\n",
        "# os.environ[\"PATH\"] = os.environ[\"JAVA_HOME\"] + \"/bin:\" + os.environ[\"PATH\"]\n",
        "# ! java -version"
      ],
      "metadata": {
        "id": "ly3BZVt1iUNe"
      },
      "execution_count": null,
      "outputs": []
    },
    {
      "cell_type": "code",
      "source": [
        "# INSTALLING PACKAGEs TO READ 5GB JSON FILE\n",
        "!pip install ijson\n",
        "# !pip install pyspark\n",
        "# !pip install findspark"
      ],
      "metadata": {
        "id": "bBqfJAl6ARlw",
        "colab": {
          "base_uri": "https://localhost:8080/"
        },
        "outputId": "133ce1dd-b7ec-4541-cea7-641b0cfd545a"
      },
      "execution_count": null,
      "outputs": [
        {
          "output_type": "stream",
          "name": "stdout",
          "text": [
            "Looking in indexes: https://pypi.org/simple, https://us-python.pkg.dev/colab-wheels/public/simple/\n",
            "Requirement already satisfied: ijson in /usr/local/lib/python3.9/dist-packages (3.2.0.post0)\n"
          ]
        }
      ]
    },
    {
      "cell_type": "code",
      "source": [
        "# import findspark\n",
        "# findspark.init()"
      ],
      "metadata": {
        "id": "FyV5o_8biJVp"
      },
      "execution_count": null,
      "outputs": []
    },
    {
      "cell_type": "code",
      "source": [
        "data_path = \"/content/drive/MyDrive/CS 532/cs532_project/data\""
      ],
      "metadata": {
        "id": "CJZA_O8IJLZA"
      },
      "execution_count": null,
      "outputs": []
    },
    {
      "cell_type": "markdown",
      "source": [
        "##Reading raw JSON file"
      ],
      "metadata": {
        "id": "htpNjVcCVQCu"
      }
    },
    {
      "cell_type": "code",
      "source": [
        "import os\n",
        "import json\n",
        "import ijson\n",
        "import pandas as pd\n",
        "\n",
        "# JSON DATA PATH\n",
        "json_file_name = os.path.join(data_path, \"yelp_academic_dataset_review.json\")\n",
        "\n",
        "# READING JSON PATH USING THE IJSON ITERATOR\n",
        "counter = 0\n",
        "data = []\n",
        "for prefix, the_type, value in ijson.parse(open(json_file_name), multiple_values=True):\n",
        "    # print(f\"prefix = {prefix}, the_type = {the_type}, value = {value}\")\n",
        "    counter += 1\n",
        "\n",
        "    if the_type == \"start_map\": item_list = ['']*9\n",
        "    \n",
        "    if prefix == \"review_id\": item_list[0] = value\n",
        "    if prefix == \"user_id\": item_list[1] = value\n",
        "    if prefix == \"business_id\": item_list[2] = value\n",
        "    if prefix == \"stars\": item_list[3] = value\n",
        "    if prefix == \"useful\": item_list[4] = value\n",
        "    if prefix == \"funny\": item_list[5] = value\n",
        "    if prefix == \"cool\": item_list[6] = value\n",
        "    if prefix == \"text\": item_list[7] = value\n",
        "    if prefix == \"date\": item_list[8] = value\n",
        "\n",
        "    if the_type == \"end_map\": data.append(item_list)\n",
        "\n",
        "    # if counter >=100: break\n",
        "\n"
      ],
      "metadata": {
        "id": "gKlk290E1QEx"
      },
      "execution_count": null,
      "outputs": []
    },
    {
      "cell_type": "code",
      "source": [
        "len(data) # 6990280"
      ],
      "metadata": {
        "colab": {
          "base_uri": "https://localhost:8080/"
        },
        "id": "j6CSbqLeEQ6P",
        "outputId": "d2e28c4d-61aa-4d97-d932-2ae2fb7a0e92"
      },
      "execution_count": null,
      "outputs": [
        {
          "output_type": "execute_result",
          "data": {
            "text/plain": [
              "6990280"
            ]
          },
          "metadata": {},
          "execution_count": 25
        }
      ]
    },
    {
      "cell_type": "code",
      "source": [
        "csv_file_raw = os.path.join(data_path, \"review_raw.csv\")\n",
        "raw_df = pd.DataFrame(data, columns=[\"review_id\", \"user_id\", \"business_id\", \"stars\", \n",
        "                                        \"useful\", \"funny\", \"cool\", \"text\", \"date\"])\n",
        "raw_df.to_csv(csv_file_raw, index=False,)\n",
        "# data_file.close()"
      ],
      "metadata": {
        "id": "MrsYfMgODH6E"
      },
      "execution_count": null,
      "outputs": []
    },
    {
      "cell_type": "code",
      "source": [
        "# from pyspark.context import SparkContext\n",
        "# from pyspark.sql.session import SparkSession\n",
        "\n",
        "# spark = SparkSession.builder.config(\"spark.driver.memory\", \"6g\").getOrCreate()\n",
        "# # spark = SparkSession.builder \\\n",
        "#       #  .master(\"local[2]\") \\\n",
        "#       #  .appName(\"test\") \\\n",
        "#       #  .config(\"spark.driver.memory\", \"6g\") \\\n",
        "#       #  .getOrCreate()\n",
        "# sc = spark.sparkContext\n",
        "# from pyspark.sql import SQLContext\n",
        "# sqlContext = SQLContext(sc)\n",
        "\n",
        "# # sc = SparkContext.getOrCreate()\n",
        "# # spark = SparkSession(sc)"
      ],
      "metadata": {
        "colab": {
          "base_uri": "https://localhost:8080/"
        },
        "id": "1dLKgTFaI7Cg",
        "outputId": "f7e23805-dc50-4c19-bb83-cfa4150b33c1"
      },
      "execution_count": null,
      "outputs": [
        {
          "output_type": "stream",
          "name": "stderr",
          "text": [
            "/usr/local/lib/python3.9/dist-packages/pyspark/sql/context.py:112: FutureWarning: Deprecated in 3.0.0. Use SparkSession.builder.getOrCreate() instead.\n",
            "  warnings.warn(\n"
          ]
        }
      ]
    },
    {
      "cell_type": "markdown",
      "source": [
        "## Sorting raw CSV file w.r.t date"
      ],
      "metadata": {
        "id": "muIb4a6EVfeF"
      }
    },
    {
      "cell_type": "code",
      "source": [
        "import os\n",
        "csv_file_raw = os.path.join(data_path, \"review_raw.csv\")"
      ],
      "metadata": {
        "id": "I_WK2OGij6MG",
        "colab": {
          "base_uri": "https://localhost:8080/",
          "height": 187
        },
        "outputId": "1b992a38-544b-4a0d-af78-ddfedffe6278"
      },
      "execution_count": 1,
      "outputs": [
        {
          "output_type": "error",
          "ename": "NameError",
          "evalue": "ignored",
          "traceback": [
            "\u001b[0;31m---------------------------------------------------------------------------\u001b[0m",
            "\u001b[0;31mNameError\u001b[0m                                 Traceback (most recent call last)",
            "\u001b[0;32m<ipython-input-1-b44b38de5fce>\u001b[0m in \u001b[0;36m<cell line: 2>\u001b[0;34m()\u001b[0m\n\u001b[1;32m      1\u001b[0m \u001b[0;32mimport\u001b[0m \u001b[0mos\u001b[0m\u001b[0;34m\u001b[0m\u001b[0;34m\u001b[0m\u001b[0m\n\u001b[0;32m----> 2\u001b[0;31m \u001b[0mcsv_file_raw\u001b[0m \u001b[0;34m=\u001b[0m \u001b[0mos\u001b[0m\u001b[0;34m.\u001b[0m\u001b[0mpath\u001b[0m\u001b[0;34m.\u001b[0m\u001b[0mjoin\u001b[0m\u001b[0;34m(\u001b[0m\u001b[0mdata_path\u001b[0m\u001b[0;34m,\u001b[0m \u001b[0;34m\"review_raw.csv\"\u001b[0m\u001b[0;34m)\u001b[0m\u001b[0;34m\u001b[0m\u001b[0;34m\u001b[0m\u001b[0m\n\u001b[0m",
            "\u001b[0;31mNameError\u001b[0m: name 'data_path' is not defined"
          ]
        }
      ]
    },
    {
      "cell_type": "code",
      "source": [
        "import numpy as np\n",
        "import time\n",
        "import pandas as pd\n",
        "  \n",
        "# time taken to read data\n",
        "s_time_chunk = time.time()\n",
        "chunk = pd.read_csv(csv_file_raw, chunksize=1000)\n",
        "e_time_chunk = time.time()\n",
        "  \n",
        "print(\"With chunks: \", (e_time_chunk-s_time_chunk), \"sec\")\n",
        "\n",
        "s_time_chunk = time.time()\n",
        "df = pd.concat(chunk)\n",
        "e_time_chunk = time.time()\n",
        "  \n",
        "print(\"With chunks: \", (e_time_chunk-s_time_chunk), \"sec\")"
      ],
      "metadata": {
        "id": "OWttSuD8Mj0H"
      },
      "execution_count": null,
      "outputs": []
    },
    {
      "cell_type": "code",
      "source": [
        "df.sort_values(by=['date'], inplace=True)\n",
        "df = df.reset_index(drop = True)\n",
        "# raw_df_sorted = spark.read.csv(csv_file_raw, header=True).coalesce(1).orderBy('date').toPandas()\n",
        "# df.head()"
      ],
      "metadata": {
        "id": "-pBuQ5whGV0e"
      },
      "execution_count": null,
      "outputs": []
    },
    {
      "cell_type": "code",
      "source": [
        "csv_file_raw_sorted = os.path.join(data_path, \"review_raw_sorted.csv\")\n",
        "df.to_csv(csv_file_raw_sorted, index=False)"
      ],
      "metadata": {
        "id": "enXdrnq8Fq81"
      },
      "execution_count": null,
      "outputs": []
    },
    {
      "cell_type": "code",
      "metadata": {
        "id": "UD7yvkwgy82S"
      },
      "source": [
        "df.shape"
      ],
      "execution_count": null,
      "outputs": []
    },
    {
      "cell_type": "markdown",
      "source": [
        "## Generating sentiment labels and year column in sorted csv"
      ],
      "metadata": {
        "id": "__0FSsctVq5Q"
      }
    },
    {
      "cell_type": "code",
      "source": [
        "import numpy as np\n",
        "import os\n",
        "import time\n",
        "import pandas as pd\n",
        "\n",
        "csv_file_raw_sorted = os.path.join(data_path, \"review_raw_sorted_labels_v2.csv\")\n",
        "\n",
        "# time taken to read data\n",
        "s_time_chunk = time.time()\n",
        "chunk = pd.read_csv(csv_file_raw_sorted, chunksize=10000)\n",
        "e_time_chunk = time.time()\n",
        "  \n",
        "print(\"With chunks: \", (e_time_chunk-s_time_chunk), \"sec\")\n",
        "\n",
        "s_time_chunk = time.time()\n",
        "df = pd.concat(chunk)\n",
        "e_time_chunk = time.time()\n",
        "  \n",
        "print(\"With chunks: \", (e_time_chunk-s_time_chunk), \"sec\")"
      ],
      "metadata": {
        "colab": {
          "base_uri": "https://localhost:8080/"
        },
        "id": "6G_KPdYMoA9U",
        "outputId": "57f0c95f-886b-424a-c6fd-bf4e29bafc45"
      },
      "execution_count": null,
      "outputs": [
        {
          "output_type": "stream",
          "name": "stdout",
          "text": [
            "With chunks:  0.7743775844573975 sec\n",
            "With chunks:  135.4234402179718 sec\n"
          ]
        }
      ]
    },
    {
      "cell_type": "code",
      "source": [
        "def f3(row):\n",
        "    if row['stars'] >= 4:\n",
        "        val = 'positive'\n",
        "    elif row['stars'] == 3:\n",
        "        val = 'neutral'\n",
        "    else:\n",
        "        val = 'negative'\n",
        "    return val\n",
        "\n",
        "def f2(row):\n",
        "    if row['stars'] >= 4:\n",
        "        val = 'positive'\n",
        "    else:\n",
        "        val = 'negative'\n",
        "    return val\n",
        "\n",
        "def year(row):\n",
        "  if isinstance(row['date'], str):\n",
        "    val = row['date'][:4]\n",
        "  else:\n",
        "    val = 'check'\n",
        "    print(type(row['date']), row['date'])\n",
        "  return val\n",
        "\n",
        "# df['labels_3'] = df.apply(f3, axis=1)\n",
        "# df['labels_2'] = df.apply(f2, axis=1)\n",
        "df['year'] = df.apply(year, axis=1)"
      ],
      "metadata": {
        "id": "Ww00KEB9cTyX",
        "colab": {
          "base_uri": "https://localhost:8080/"
        },
        "outputId": "a16310c7-5139-4b41-fffd-e09e00b403a9"
      },
      "execution_count": null,
      "outputs": [
        {
          "output_type": "stream",
          "name": "stdout",
          "text": [
            "<class 'float'> nan\n",
            "<class 'float'> nan\n",
            "<class 'float'> nan\n"
          ]
        }
      ]
    },
    {
      "cell_type": "code",
      "source": [
        "df.head(10)"
      ],
      "metadata": {
        "colab": {
          "base_uri": "https://localhost:8080/",
          "height": 633
        },
        "id": "LANkufytoHAv",
        "outputId": "3a924770-b1eb-4475-ff3e-d0cdfd4078b3"
      },
      "execution_count": null,
      "outputs": [
        {
          "output_type": "execute_result",
          "data": {
            "text/plain": [
              "                review_id                 user_id             business_id  \\\n",
              "0  IykJMMZgbNcUndwf1q6ieg  3zBJUlWtPNoZ0uN83ODbyg  2bXm0SynOfxDzfrdrCyXqg   \n",
              "1  -O5ng1XLox6uEr4uIZ8u5A  3zBJUlWtPNoZ0uN83ODbyg  3g6XqkBikTTbZmTukbeGnw   \n",
              "2  g80vzN72iU03Wh0fSpq41g  3zBJUlWtPNoZ0uN83ODbyg  PP3BBaVxZLcJU54uP_wL6Q   \n",
              "3  7Dcrt0Oz0hikA8obGhadrQ  XCsZ3hWa_6oP1WkWvK7pmg  U3grYFIeu6RgAAQgdriHww   \n",
              "4  WC9q5vhQlQkLK05kEs-vYQ  XCsZ3hWa_6oP1WkWvK7pmg  Aes-0Q_guDeYewMapFs_vg   \n",
              "5  Q0GJ06L78nkVyNfHrd9iUg  XCsZ3hWa_6oP1WkWvK7pmg  CziOtnFSklimJnBgksDDwA   \n",
              "6  TYslH-CAecjJxLNs96KduA  XCsZ3hWa_6oP1WkWvK7pmg  29YqJwOGEuAWqlHZxMc1OA   \n",
              "7  b5IWJOAwIKwyOsOGbS-sCA  XCsZ3hWa_6oP1WkWvK7pmg  6RBZfirnzE4NahJTn1UPNA   \n",
              "8  hX0XEpQ0Ai1UgHEQjrWOkQ  XCsZ3hWa_6oP1WkWvK7pmg  jssubXBNkiSJIhbKuDtmpQ   \n",
              "9  sg2Mc_sanqnZ__lXKZk3hA  XCsZ3hWa_6oP1WkWvK7pmg  bSfDI69RkUrodsA1QwgnOg   \n",
              "\n",
              "   stars  useful  funny  cool  \\\n",
              "0    4.0     0.0    0.0   0.0   \n",
              "1    4.0     1.0    0.0   0.0   \n",
              "2    5.0     0.0    0.0   0.0   \n",
              "3    5.0     0.0    0.0   0.0   \n",
              "4    2.0     0.0    0.0   0.0   \n",
              "5    3.0     0.0    0.0   0.0   \n",
              "6    5.0     0.0    0.0   0.0   \n",
              "7    4.0     0.0    0.0   0.0   \n",
              "8    4.0     0.0    0.0   0.0   \n",
              "9    5.0     0.0    0.0   0.0   \n",
              "\n",
              "                                                text                 date  \\\n",
              "0  It's not chicago style pizza but it is still a...  2005-02-16 03:23:22   \n",
              "1  Great service.  The people really want to help...  2005-02-16 03:29:39   \n",
              "2  These guys really are the king of cheese steak...  2005-02-16 04:06:26   \n",
              "3  Words cannot describe how much I miss this pla...  2005-03-01 16:57:17   \n",
              "4  Food is decent but is a complete tourist trap....  2005-03-01 16:59:37   \n",
              "5  This place gets a 3.5...great location, great ...  2005-03-01 17:25:13   \n",
              "6  Lovely little restaurant which was converted f...  2005-03-01 17:47:15   \n",
              "7  This little hole in the wall taqueria is writt...  2005-03-01 17:59:26   \n",
              "8  This is the original location for this great t...  2005-03-01 19:33:35   \n",
              "9  Oh the Sh*tty Kitty...by far the best bar in S...  2005-03-01 19:35:44   \n",
              "\n",
              "   labels_3  labels_2  year  \n",
              "0  positive  positive  2005  \n",
              "1  positive  positive  2005  \n",
              "2  positive  positive  2005  \n",
              "3  positive  positive  2005  \n",
              "4  negative  negative  2005  \n",
              "5   neutral  negative  2005  \n",
              "6  positive  positive  2005  \n",
              "7  positive  positive  2005  \n",
              "8  positive  positive  2005  \n",
              "9  positive  positive  2005  "
            ],
            "text/html": [
              "\n",
              "  <div id=\"df-91038da4-5b81-47b2-bef9-c84e69398664\">\n",
              "    <div class=\"colab-df-container\">\n",
              "      <div>\n",
              "<style scoped>\n",
              "    .dataframe tbody tr th:only-of-type {\n",
              "        vertical-align: middle;\n",
              "    }\n",
              "\n",
              "    .dataframe tbody tr th {\n",
              "        vertical-align: top;\n",
              "    }\n",
              "\n",
              "    .dataframe thead th {\n",
              "        text-align: right;\n",
              "    }\n",
              "</style>\n",
              "<table border=\"1\" class=\"dataframe\">\n",
              "  <thead>\n",
              "    <tr style=\"text-align: right;\">\n",
              "      <th></th>\n",
              "      <th>review_id</th>\n",
              "      <th>user_id</th>\n",
              "      <th>business_id</th>\n",
              "      <th>stars</th>\n",
              "      <th>useful</th>\n",
              "      <th>funny</th>\n",
              "      <th>cool</th>\n",
              "      <th>text</th>\n",
              "      <th>date</th>\n",
              "      <th>labels_3</th>\n",
              "      <th>labels_2</th>\n",
              "      <th>year</th>\n",
              "    </tr>\n",
              "  </thead>\n",
              "  <tbody>\n",
              "    <tr>\n",
              "      <th>0</th>\n",
              "      <td>IykJMMZgbNcUndwf1q6ieg</td>\n",
              "      <td>3zBJUlWtPNoZ0uN83ODbyg</td>\n",
              "      <td>2bXm0SynOfxDzfrdrCyXqg</td>\n",
              "      <td>4.0</td>\n",
              "      <td>0.0</td>\n",
              "      <td>0.0</td>\n",
              "      <td>0.0</td>\n",
              "      <td>It's not chicago style pizza but it is still a...</td>\n",
              "      <td>2005-02-16 03:23:22</td>\n",
              "      <td>positive</td>\n",
              "      <td>positive</td>\n",
              "      <td>2005</td>\n",
              "    </tr>\n",
              "    <tr>\n",
              "      <th>1</th>\n",
              "      <td>-O5ng1XLox6uEr4uIZ8u5A</td>\n",
              "      <td>3zBJUlWtPNoZ0uN83ODbyg</td>\n",
              "      <td>3g6XqkBikTTbZmTukbeGnw</td>\n",
              "      <td>4.0</td>\n",
              "      <td>1.0</td>\n",
              "      <td>0.0</td>\n",
              "      <td>0.0</td>\n",
              "      <td>Great service.  The people really want to help...</td>\n",
              "      <td>2005-02-16 03:29:39</td>\n",
              "      <td>positive</td>\n",
              "      <td>positive</td>\n",
              "      <td>2005</td>\n",
              "    </tr>\n",
              "    <tr>\n",
              "      <th>2</th>\n",
              "      <td>g80vzN72iU03Wh0fSpq41g</td>\n",
              "      <td>3zBJUlWtPNoZ0uN83ODbyg</td>\n",
              "      <td>PP3BBaVxZLcJU54uP_wL6Q</td>\n",
              "      <td>5.0</td>\n",
              "      <td>0.0</td>\n",
              "      <td>0.0</td>\n",
              "      <td>0.0</td>\n",
              "      <td>These guys really are the king of cheese steak...</td>\n",
              "      <td>2005-02-16 04:06:26</td>\n",
              "      <td>positive</td>\n",
              "      <td>positive</td>\n",
              "      <td>2005</td>\n",
              "    </tr>\n",
              "    <tr>\n",
              "      <th>3</th>\n",
              "      <td>7Dcrt0Oz0hikA8obGhadrQ</td>\n",
              "      <td>XCsZ3hWa_6oP1WkWvK7pmg</td>\n",
              "      <td>U3grYFIeu6RgAAQgdriHww</td>\n",
              "      <td>5.0</td>\n",
              "      <td>0.0</td>\n",
              "      <td>0.0</td>\n",
              "      <td>0.0</td>\n",
              "      <td>Words cannot describe how much I miss this pla...</td>\n",
              "      <td>2005-03-01 16:57:17</td>\n",
              "      <td>positive</td>\n",
              "      <td>positive</td>\n",
              "      <td>2005</td>\n",
              "    </tr>\n",
              "    <tr>\n",
              "      <th>4</th>\n",
              "      <td>WC9q5vhQlQkLK05kEs-vYQ</td>\n",
              "      <td>XCsZ3hWa_6oP1WkWvK7pmg</td>\n",
              "      <td>Aes-0Q_guDeYewMapFs_vg</td>\n",
              "      <td>2.0</td>\n",
              "      <td>0.0</td>\n",
              "      <td>0.0</td>\n",
              "      <td>0.0</td>\n",
              "      <td>Food is decent but is a complete tourist trap....</td>\n",
              "      <td>2005-03-01 16:59:37</td>\n",
              "      <td>negative</td>\n",
              "      <td>negative</td>\n",
              "      <td>2005</td>\n",
              "    </tr>\n",
              "    <tr>\n",
              "      <th>5</th>\n",
              "      <td>Q0GJ06L78nkVyNfHrd9iUg</td>\n",
              "      <td>XCsZ3hWa_6oP1WkWvK7pmg</td>\n",
              "      <td>CziOtnFSklimJnBgksDDwA</td>\n",
              "      <td>3.0</td>\n",
              "      <td>0.0</td>\n",
              "      <td>0.0</td>\n",
              "      <td>0.0</td>\n",
              "      <td>This place gets a 3.5...great location, great ...</td>\n",
              "      <td>2005-03-01 17:25:13</td>\n",
              "      <td>neutral</td>\n",
              "      <td>negative</td>\n",
              "      <td>2005</td>\n",
              "    </tr>\n",
              "    <tr>\n",
              "      <th>6</th>\n",
              "      <td>TYslH-CAecjJxLNs96KduA</td>\n",
              "      <td>XCsZ3hWa_6oP1WkWvK7pmg</td>\n",
              "      <td>29YqJwOGEuAWqlHZxMc1OA</td>\n",
              "      <td>5.0</td>\n",
              "      <td>0.0</td>\n",
              "      <td>0.0</td>\n",
              "      <td>0.0</td>\n",
              "      <td>Lovely little restaurant which was converted f...</td>\n",
              "      <td>2005-03-01 17:47:15</td>\n",
              "      <td>positive</td>\n",
              "      <td>positive</td>\n",
              "      <td>2005</td>\n",
              "    </tr>\n",
              "    <tr>\n",
              "      <th>7</th>\n",
              "      <td>b5IWJOAwIKwyOsOGbS-sCA</td>\n",
              "      <td>XCsZ3hWa_6oP1WkWvK7pmg</td>\n",
              "      <td>6RBZfirnzE4NahJTn1UPNA</td>\n",
              "      <td>4.0</td>\n",
              "      <td>0.0</td>\n",
              "      <td>0.0</td>\n",
              "      <td>0.0</td>\n",
              "      <td>This little hole in the wall taqueria is writt...</td>\n",
              "      <td>2005-03-01 17:59:26</td>\n",
              "      <td>positive</td>\n",
              "      <td>positive</td>\n",
              "      <td>2005</td>\n",
              "    </tr>\n",
              "    <tr>\n",
              "      <th>8</th>\n",
              "      <td>hX0XEpQ0Ai1UgHEQjrWOkQ</td>\n",
              "      <td>XCsZ3hWa_6oP1WkWvK7pmg</td>\n",
              "      <td>jssubXBNkiSJIhbKuDtmpQ</td>\n",
              "      <td>4.0</td>\n",
              "      <td>0.0</td>\n",
              "      <td>0.0</td>\n",
              "      <td>0.0</td>\n",
              "      <td>This is the original location for this great t...</td>\n",
              "      <td>2005-03-01 19:33:35</td>\n",
              "      <td>positive</td>\n",
              "      <td>positive</td>\n",
              "      <td>2005</td>\n",
              "    </tr>\n",
              "    <tr>\n",
              "      <th>9</th>\n",
              "      <td>sg2Mc_sanqnZ__lXKZk3hA</td>\n",
              "      <td>XCsZ3hWa_6oP1WkWvK7pmg</td>\n",
              "      <td>bSfDI69RkUrodsA1QwgnOg</td>\n",
              "      <td>5.0</td>\n",
              "      <td>0.0</td>\n",
              "      <td>0.0</td>\n",
              "      <td>0.0</td>\n",
              "      <td>Oh the Sh*tty Kitty...by far the best bar in S...</td>\n",
              "      <td>2005-03-01 19:35:44</td>\n",
              "      <td>positive</td>\n",
              "      <td>positive</td>\n",
              "      <td>2005</td>\n",
              "    </tr>\n",
              "  </tbody>\n",
              "</table>\n",
              "</div>\n",
              "      <button class=\"colab-df-convert\" onclick=\"convertToInteractive('df-91038da4-5b81-47b2-bef9-c84e69398664')\"\n",
              "              title=\"Convert this dataframe to an interactive table.\"\n",
              "              style=\"display:none;\">\n",
              "        \n",
              "  <svg xmlns=\"http://www.w3.org/2000/svg\" height=\"24px\"viewBox=\"0 0 24 24\"\n",
              "       width=\"24px\">\n",
              "    <path d=\"M0 0h24v24H0V0z\" fill=\"none\"/>\n",
              "    <path d=\"M18.56 5.44l.94 2.06.94-2.06 2.06-.94-2.06-.94-.94-2.06-.94 2.06-2.06.94zm-11 1L8.5 8.5l.94-2.06 2.06-.94-2.06-.94L8.5 2.5l-.94 2.06-2.06.94zm10 10l.94 2.06.94-2.06 2.06-.94-2.06-.94-.94-2.06-.94 2.06-2.06.94z\"/><path d=\"M17.41 7.96l-1.37-1.37c-.4-.4-.92-.59-1.43-.59-.52 0-1.04.2-1.43.59L10.3 9.45l-7.72 7.72c-.78.78-.78 2.05 0 2.83L4 21.41c.39.39.9.59 1.41.59.51 0 1.02-.2 1.41-.59l7.78-7.78 2.81-2.81c.8-.78.8-2.07 0-2.86zM5.41 20L4 18.59l7.72-7.72 1.47 1.35L5.41 20z\"/>\n",
              "  </svg>\n",
              "      </button>\n",
              "      \n",
              "  <style>\n",
              "    .colab-df-container {\n",
              "      display:flex;\n",
              "      flex-wrap:wrap;\n",
              "      gap: 12px;\n",
              "    }\n",
              "\n",
              "    .colab-df-convert {\n",
              "      background-color: #E8F0FE;\n",
              "      border: none;\n",
              "      border-radius: 50%;\n",
              "      cursor: pointer;\n",
              "      display: none;\n",
              "      fill: #1967D2;\n",
              "      height: 32px;\n",
              "      padding: 0 0 0 0;\n",
              "      width: 32px;\n",
              "    }\n",
              "\n",
              "    .colab-df-convert:hover {\n",
              "      background-color: #E2EBFA;\n",
              "      box-shadow: 0px 1px 2px rgba(60, 64, 67, 0.3), 0px 1px 3px 1px rgba(60, 64, 67, 0.15);\n",
              "      fill: #174EA6;\n",
              "    }\n",
              "\n",
              "    [theme=dark] .colab-df-convert {\n",
              "      background-color: #3B4455;\n",
              "      fill: #D2E3FC;\n",
              "    }\n",
              "\n",
              "    [theme=dark] .colab-df-convert:hover {\n",
              "      background-color: #434B5C;\n",
              "      box-shadow: 0px 1px 3px 1px rgba(0, 0, 0, 0.15);\n",
              "      filter: drop-shadow(0px 1px 2px rgba(0, 0, 0, 0.3));\n",
              "      fill: #FFFFFF;\n",
              "    }\n",
              "  </style>\n",
              "\n",
              "      <script>\n",
              "        const buttonEl =\n",
              "          document.querySelector('#df-91038da4-5b81-47b2-bef9-c84e69398664 button.colab-df-convert');\n",
              "        buttonEl.style.display =\n",
              "          google.colab.kernel.accessAllowed ? 'block' : 'none';\n",
              "\n",
              "        async function convertToInteractive(key) {\n",
              "          const element = document.querySelector('#df-91038da4-5b81-47b2-bef9-c84e69398664');\n",
              "          const dataTable =\n",
              "            await google.colab.kernel.invokeFunction('convertToInteractive',\n",
              "                                                     [key], {});\n",
              "          if (!dataTable) return;\n",
              "\n",
              "          const docLinkHtml = 'Like what you see? Visit the ' +\n",
              "            '<a target=\"_blank\" href=https://colab.research.google.com/notebooks/data_table.ipynb>data table notebook</a>'\n",
              "            + ' to learn more about interactive tables.';\n",
              "          element.innerHTML = '';\n",
              "          dataTable['output_type'] = 'display_data';\n",
              "          await google.colab.output.renderOutput(dataTable, element);\n",
              "          const docLink = document.createElement('div');\n",
              "          docLink.innerHTML = docLinkHtml;\n",
              "          element.appendChild(docLink);\n",
              "        }\n",
              "      </script>\n",
              "    </div>\n",
              "  </div>\n",
              "  "
            ]
          },
          "metadata": {},
          "execution_count": 12
        }
      ]
    },
    {
      "cell_type": "code",
      "source": [
        "raw_sorted_wLabels = os.path.join(data_path, \"review_raw_sorted_labels_v2.csv\")\n",
        "# df.to_csv(raw_sorted_wLabels, index=False)"
      ],
      "metadata": {
        "id": "X1XN8ipqpt9g"
      },
      "execution_count": null,
      "outputs": []
    },
    {
      "cell_type": "code",
      "source": [
        "df['year'].value_counts()"
      ],
      "metadata": {
        "colab": {
          "base_uri": "https://localhost:8080/"
        },
        "id": "9qlJkKU9P0XB",
        "outputId": "19ff064f-8bea-47ce-a947-e40df557e897"
      },
      "execution_count": null,
      "outputs": [
        {
          "output_type": "execute_result",
          "data": {
            "text/plain": [
              "2019     907284\n",
              "2018     906362\n",
              "2017     820048\n",
              "2016     758881\n",
              "2015     688415\n",
              "2021     618189\n",
              "2020     554557\n",
              "2014     522275\n",
              "2013     383950\n",
              "2012     286570\n",
              "2011     230813\n",
              "2010     138587\n",
              "2009      74387\n",
              "2008      48226\n",
              "2022      31665\n",
              "2007      15363\n",
              "2006       3853\n",
              "2005        854\n",
              "check         3\n",
              "Name: year, dtype: int64"
            ]
          },
          "metadata": {},
          "execution_count": 11
        }
      ]
    },
    {
      "cell_type": "code",
      "source": [
        "## count of reviews by year\n",
        "\n",
        "# 2022      31665\n",
        "# 2021     618189\n",
        "# 2020     554557\n",
        "# 2019     907284\n",
        "# 2018     906362\n",
        "# 2017     820048\n",
        "# 2016     758881\n",
        "# 2015     688415\n",
        "# 2014     522275\n",
        "# 2013     383950\n",
        "# 2012     286570\n",
        "# 2011     230813\n",
        "# 2010     138587\n",
        "# 2009      74387\n",
        "# 2008      48226\n",
        "# 2007      15363\n",
        "# 2006       3853\n",
        "# 2005        854\n",
        "# check         3"
      ],
      "metadata": {
        "id": "RQ3t9cXsQR0P"
      },
      "execution_count": null,
      "outputs": []
    },
    {
      "cell_type": "markdown",
      "source": [
        "## Creating partitioned data"
      ],
      "metadata": {
        "id": "wc18QrPNMS-T"
      }
    },
    {
      "cell_type": "code",
      "source": [
        "df.head()"
      ],
      "metadata": {
        "id": "NYdfZGpP8jfX",
        "colab": {
          "base_uri": "https://localhost:8080/",
          "height": 337
        },
        "outputId": "f2d37e6e-c317-4c19-c661-b3d88ccef53e"
      },
      "execution_count": null,
      "outputs": [
        {
          "output_type": "execute_result",
          "data": {
            "text/plain": [
              "                review_id                 user_id             business_id  \\\n",
              "0  IykJMMZgbNcUndwf1q6ieg  3zBJUlWtPNoZ0uN83ODbyg  2bXm0SynOfxDzfrdrCyXqg   \n",
              "1  -O5ng1XLox6uEr4uIZ8u5A  3zBJUlWtPNoZ0uN83ODbyg  3g6XqkBikTTbZmTukbeGnw   \n",
              "2  g80vzN72iU03Wh0fSpq41g  3zBJUlWtPNoZ0uN83ODbyg  PP3BBaVxZLcJU54uP_wL6Q   \n",
              "3  7Dcrt0Oz0hikA8obGhadrQ  XCsZ3hWa_6oP1WkWvK7pmg  U3grYFIeu6RgAAQgdriHww   \n",
              "4  WC9q5vhQlQkLK05kEs-vYQ  XCsZ3hWa_6oP1WkWvK7pmg  Aes-0Q_guDeYewMapFs_vg   \n",
              "\n",
              "   stars  useful  funny  cool  \\\n",
              "0    4.0     0.0    0.0   0.0   \n",
              "1    4.0     1.0    0.0   0.0   \n",
              "2    5.0     0.0    0.0   0.0   \n",
              "3    5.0     0.0    0.0   0.0   \n",
              "4    2.0     0.0    0.0   0.0   \n",
              "\n",
              "                                                text                 date  \\\n",
              "0  It's not chicago style pizza but it is still a...  2005-02-16 03:23:22   \n",
              "1  Great service.  The people really want to help...  2005-02-16 03:29:39   \n",
              "2  These guys really are the king of cheese steak...  2005-02-16 04:06:26   \n",
              "3  Words cannot describe how much I miss this pla...  2005-03-01 16:57:17   \n",
              "4  Food is decent but is a complete tourist trap....  2005-03-01 16:59:37   \n",
              "\n",
              "   labels_3  labels_2  year  \n",
              "0  positive  positive  2005  \n",
              "1  positive  positive  2005  \n",
              "2  positive  positive  2005  \n",
              "3  positive  positive  2005  \n",
              "4  negative  negative  2005  "
            ],
            "text/html": [
              "\n",
              "  <div id=\"df-65953b81-d274-4730-8260-80f875ad5c13\">\n",
              "    <div class=\"colab-df-container\">\n",
              "      <div>\n",
              "<style scoped>\n",
              "    .dataframe tbody tr th:only-of-type {\n",
              "        vertical-align: middle;\n",
              "    }\n",
              "\n",
              "    .dataframe tbody tr th {\n",
              "        vertical-align: top;\n",
              "    }\n",
              "\n",
              "    .dataframe thead th {\n",
              "        text-align: right;\n",
              "    }\n",
              "</style>\n",
              "<table border=\"1\" class=\"dataframe\">\n",
              "  <thead>\n",
              "    <tr style=\"text-align: right;\">\n",
              "      <th></th>\n",
              "      <th>review_id</th>\n",
              "      <th>user_id</th>\n",
              "      <th>business_id</th>\n",
              "      <th>stars</th>\n",
              "      <th>useful</th>\n",
              "      <th>funny</th>\n",
              "      <th>cool</th>\n",
              "      <th>text</th>\n",
              "      <th>date</th>\n",
              "      <th>labels_3</th>\n",
              "      <th>labels_2</th>\n",
              "      <th>year</th>\n",
              "    </tr>\n",
              "  </thead>\n",
              "  <tbody>\n",
              "    <tr>\n",
              "      <th>0</th>\n",
              "      <td>IykJMMZgbNcUndwf1q6ieg</td>\n",
              "      <td>3zBJUlWtPNoZ0uN83ODbyg</td>\n",
              "      <td>2bXm0SynOfxDzfrdrCyXqg</td>\n",
              "      <td>4.0</td>\n",
              "      <td>0.0</td>\n",
              "      <td>0.0</td>\n",
              "      <td>0.0</td>\n",
              "      <td>It's not chicago style pizza but it is still a...</td>\n",
              "      <td>2005-02-16 03:23:22</td>\n",
              "      <td>positive</td>\n",
              "      <td>positive</td>\n",
              "      <td>2005</td>\n",
              "    </tr>\n",
              "    <tr>\n",
              "      <th>1</th>\n",
              "      <td>-O5ng1XLox6uEr4uIZ8u5A</td>\n",
              "      <td>3zBJUlWtPNoZ0uN83ODbyg</td>\n",
              "      <td>3g6XqkBikTTbZmTukbeGnw</td>\n",
              "      <td>4.0</td>\n",
              "      <td>1.0</td>\n",
              "      <td>0.0</td>\n",
              "      <td>0.0</td>\n",
              "      <td>Great service.  The people really want to help...</td>\n",
              "      <td>2005-02-16 03:29:39</td>\n",
              "      <td>positive</td>\n",
              "      <td>positive</td>\n",
              "      <td>2005</td>\n",
              "    </tr>\n",
              "    <tr>\n",
              "      <th>2</th>\n",
              "      <td>g80vzN72iU03Wh0fSpq41g</td>\n",
              "      <td>3zBJUlWtPNoZ0uN83ODbyg</td>\n",
              "      <td>PP3BBaVxZLcJU54uP_wL6Q</td>\n",
              "      <td>5.0</td>\n",
              "      <td>0.0</td>\n",
              "      <td>0.0</td>\n",
              "      <td>0.0</td>\n",
              "      <td>These guys really are the king of cheese steak...</td>\n",
              "      <td>2005-02-16 04:06:26</td>\n",
              "      <td>positive</td>\n",
              "      <td>positive</td>\n",
              "      <td>2005</td>\n",
              "    </tr>\n",
              "    <tr>\n",
              "      <th>3</th>\n",
              "      <td>7Dcrt0Oz0hikA8obGhadrQ</td>\n",
              "      <td>XCsZ3hWa_6oP1WkWvK7pmg</td>\n",
              "      <td>U3grYFIeu6RgAAQgdriHww</td>\n",
              "      <td>5.0</td>\n",
              "      <td>0.0</td>\n",
              "      <td>0.0</td>\n",
              "      <td>0.0</td>\n",
              "      <td>Words cannot describe how much I miss this pla...</td>\n",
              "      <td>2005-03-01 16:57:17</td>\n",
              "      <td>positive</td>\n",
              "      <td>positive</td>\n",
              "      <td>2005</td>\n",
              "    </tr>\n",
              "    <tr>\n",
              "      <th>4</th>\n",
              "      <td>WC9q5vhQlQkLK05kEs-vYQ</td>\n",
              "      <td>XCsZ3hWa_6oP1WkWvK7pmg</td>\n",
              "      <td>Aes-0Q_guDeYewMapFs_vg</td>\n",
              "      <td>2.0</td>\n",
              "      <td>0.0</td>\n",
              "      <td>0.0</td>\n",
              "      <td>0.0</td>\n",
              "      <td>Food is decent but is a complete tourist trap....</td>\n",
              "      <td>2005-03-01 16:59:37</td>\n",
              "      <td>negative</td>\n",
              "      <td>negative</td>\n",
              "      <td>2005</td>\n",
              "    </tr>\n",
              "  </tbody>\n",
              "</table>\n",
              "</div>\n",
              "      <button class=\"colab-df-convert\" onclick=\"convertToInteractive('df-65953b81-d274-4730-8260-80f875ad5c13')\"\n",
              "              title=\"Convert this dataframe to an interactive table.\"\n",
              "              style=\"display:none;\">\n",
              "        \n",
              "  <svg xmlns=\"http://www.w3.org/2000/svg\" height=\"24px\"viewBox=\"0 0 24 24\"\n",
              "       width=\"24px\">\n",
              "    <path d=\"M0 0h24v24H0V0z\" fill=\"none\"/>\n",
              "    <path d=\"M18.56 5.44l.94 2.06.94-2.06 2.06-.94-2.06-.94-.94-2.06-.94 2.06-2.06.94zm-11 1L8.5 8.5l.94-2.06 2.06-.94-2.06-.94L8.5 2.5l-.94 2.06-2.06.94zm10 10l.94 2.06.94-2.06 2.06-.94-2.06-.94-.94-2.06-.94 2.06-2.06.94z\"/><path d=\"M17.41 7.96l-1.37-1.37c-.4-.4-.92-.59-1.43-.59-.52 0-1.04.2-1.43.59L10.3 9.45l-7.72 7.72c-.78.78-.78 2.05 0 2.83L4 21.41c.39.39.9.59 1.41.59.51 0 1.02-.2 1.41-.59l7.78-7.78 2.81-2.81c.8-.78.8-2.07 0-2.86zM5.41 20L4 18.59l7.72-7.72 1.47 1.35L5.41 20z\"/>\n",
              "  </svg>\n",
              "      </button>\n",
              "      \n",
              "  <style>\n",
              "    .colab-df-container {\n",
              "      display:flex;\n",
              "      flex-wrap:wrap;\n",
              "      gap: 12px;\n",
              "    }\n",
              "\n",
              "    .colab-df-convert {\n",
              "      background-color: #E8F0FE;\n",
              "      border: none;\n",
              "      border-radius: 50%;\n",
              "      cursor: pointer;\n",
              "      display: none;\n",
              "      fill: #1967D2;\n",
              "      height: 32px;\n",
              "      padding: 0 0 0 0;\n",
              "      width: 32px;\n",
              "    }\n",
              "\n",
              "    .colab-df-convert:hover {\n",
              "      background-color: #E2EBFA;\n",
              "      box-shadow: 0px 1px 2px rgba(60, 64, 67, 0.3), 0px 1px 3px 1px rgba(60, 64, 67, 0.15);\n",
              "      fill: #174EA6;\n",
              "    }\n",
              "\n",
              "    [theme=dark] .colab-df-convert {\n",
              "      background-color: #3B4455;\n",
              "      fill: #D2E3FC;\n",
              "    }\n",
              "\n",
              "    [theme=dark] .colab-df-convert:hover {\n",
              "      background-color: #434B5C;\n",
              "      box-shadow: 0px 1px 3px 1px rgba(0, 0, 0, 0.15);\n",
              "      filter: drop-shadow(0px 1px 2px rgba(0, 0, 0, 0.3));\n",
              "      fill: #FFFFFF;\n",
              "    }\n",
              "  </style>\n",
              "\n",
              "      <script>\n",
              "        const buttonEl =\n",
              "          document.querySelector('#df-65953b81-d274-4730-8260-80f875ad5c13 button.colab-df-convert');\n",
              "        buttonEl.style.display =\n",
              "          google.colab.kernel.accessAllowed ? 'block' : 'none';\n",
              "\n",
              "        async function convertToInteractive(key) {\n",
              "          const element = document.querySelector('#df-65953b81-d274-4730-8260-80f875ad5c13');\n",
              "          const dataTable =\n",
              "            await google.colab.kernel.invokeFunction('convertToInteractive',\n",
              "                                                     [key], {});\n",
              "          if (!dataTable) return;\n",
              "\n",
              "          const docLinkHtml = 'Like what you see? Visit the ' +\n",
              "            '<a target=\"_blank\" href=https://colab.research.google.com/notebooks/data_table.ipynb>data table notebook</a>'\n",
              "            + ' to learn more about interactive tables.';\n",
              "          element.innerHTML = '';\n",
              "          dataTable['output_type'] = 'display_data';\n",
              "          await google.colab.output.renderOutput(dataTable, element);\n",
              "          const docLink = document.createElement('div');\n",
              "          docLink.innerHTML = docLinkHtml;\n",
              "          element.appendChild(docLink);\n",
              "        }\n",
              "      </script>\n",
              "    </div>\n",
              "  </div>\n",
              "  "
            ]
          },
          "metadata": {},
          "execution_count": 4
        }
      ]
    },
    {
      "cell_type": "code",
      "source": [
        "df_2005.columns"
      ],
      "metadata": {
        "colab": {
          "base_uri": "https://localhost:8080/"
        },
        "id": "TquIFBktN4DL",
        "outputId": "7068a211-ab62-4a74-b438-3da1710432ad"
      },
      "execution_count": null,
      "outputs": [
        {
          "output_type": "execute_result",
          "data": {
            "text/plain": [
              "Index(['review_id', 'user_id', 'business_id', 'stars', 'useful', 'funny',\n",
              "       'cool', 'text', 'date', 'labels_3', 'labels_2', 'year'],\n",
              "      dtype='object')"
            ]
          },
          "metadata": {},
          "execution_count": 17
        }
      ]
    },
    {
      "cell_type": "code",
      "source": [
        "df_2008 = df_2008.drop(['review_id', 'user_id', 'business_id', 'stars', 'useful', 'funny','cool', 'date', 'labels_2', 'year', ], axis=1)"
      ],
      "metadata": {
        "id": "LPSJUiWNNzWr"
      },
      "execution_count": null,
      "outputs": []
    },
    {
      "cell_type": "code",
      "source": [
        "df.iloc[0]['year'] == '2005'"
      ],
      "metadata": {
        "colab": {
          "base_uri": "https://localhost:8080/"
        },
        "id": "2AkrLSC1ND4l",
        "outputId": "0670c913-2312-4e88-efe9-8f5a3d61aac1"
      },
      "execution_count": null,
      "outputs": [
        {
          "output_type": "execute_result",
          "data": {
            "text/plain": [
              "False"
            ]
          },
          "metadata": {},
          "execution_count": 23
        }
      ]
    },
    {
      "cell_type": "code",
      "source": [
        "df_2005 = df.loc[(df['year'] == 2005) | (df['year'] == 2006) | (df['year'] == 2007)]\n",
        "df_2008 = df.loc[(df['year'] == 2008)]"
      ],
      "metadata": {
        "id": "sjoEKp12MXxU"
      },
      "execution_count": null,
      "outputs": []
    },
    {
      "cell_type": "code",
      "source": [
        "df.shape, df_2005.shape, df_2008.shape"
      ],
      "metadata": {
        "colab": {
          "base_uri": "https://localhost:8080/"
        },
        "id": "259pjB1_M9B7",
        "outputId": "e536cecb-aee1-4d0b-fe66-eb3cad3d8155"
      },
      "execution_count": null,
      "outputs": [
        {
          "output_type": "execute_result",
          "data": {
            "text/plain": [
              "((6990282, 12), (20070, 12), (48226, 2))"
            ]
          },
          "metadata": {},
          "execution_count": 43
        }
      ]
    },
    {
      "cell_type": "code",
      "source": [
        "df_2008.to_csv(os.path.join(data_path, \"review_2008.csv\"), index=False)"
      ],
      "metadata": {
        "id": "glIif3_oMiI9"
      },
      "execution_count": null,
      "outputs": []
    },
    {
      "cell_type": "code",
      "source": [
        "df_2005.head()"
      ],
      "metadata": {
        "colab": {
          "base_uri": "https://localhost:8080/",
          "height": 206
        },
        "id": "GkG5OHp9Ncyq",
        "outputId": "46125694-a465-42b9-ac7f-deafe781292c"
      },
      "execution_count": null,
      "outputs": [
        {
          "output_type": "execute_result",
          "data": {
            "text/plain": [
              "                                                text  labels_3\n",
              "0  It's not chicago style pizza but it is still a...  positive\n",
              "1  Great service.  The people really want to help...  positive\n",
              "2  These guys really are the king of cheese steak...  positive\n",
              "3  Words cannot describe how much I miss this pla...  positive\n",
              "4  Food is decent but is a complete tourist trap....  negative"
            ],
            "text/html": [
              "\n",
              "  <div id=\"df-8adc69b6-d153-4c8a-b97c-52f2820d70c5\">\n",
              "    <div class=\"colab-df-container\">\n",
              "      <div>\n",
              "<style scoped>\n",
              "    .dataframe tbody tr th:only-of-type {\n",
              "        vertical-align: middle;\n",
              "    }\n",
              "\n",
              "    .dataframe tbody tr th {\n",
              "        vertical-align: top;\n",
              "    }\n",
              "\n",
              "    .dataframe thead th {\n",
              "        text-align: right;\n",
              "    }\n",
              "</style>\n",
              "<table border=\"1\" class=\"dataframe\">\n",
              "  <thead>\n",
              "    <tr style=\"text-align: right;\">\n",
              "      <th></th>\n",
              "      <th>text</th>\n",
              "      <th>labels_3</th>\n",
              "    </tr>\n",
              "  </thead>\n",
              "  <tbody>\n",
              "    <tr>\n",
              "      <th>0</th>\n",
              "      <td>It's not chicago style pizza but it is still a...</td>\n",
              "      <td>positive</td>\n",
              "    </tr>\n",
              "    <tr>\n",
              "      <th>1</th>\n",
              "      <td>Great service.  The people really want to help...</td>\n",
              "      <td>positive</td>\n",
              "    </tr>\n",
              "    <tr>\n",
              "      <th>2</th>\n",
              "      <td>These guys really are the king of cheese steak...</td>\n",
              "      <td>positive</td>\n",
              "    </tr>\n",
              "    <tr>\n",
              "      <th>3</th>\n",
              "      <td>Words cannot describe how much I miss this pla...</td>\n",
              "      <td>positive</td>\n",
              "    </tr>\n",
              "    <tr>\n",
              "      <th>4</th>\n",
              "      <td>Food is decent but is a complete tourist trap....</td>\n",
              "      <td>negative</td>\n",
              "    </tr>\n",
              "  </tbody>\n",
              "</table>\n",
              "</div>\n",
              "      <button class=\"colab-df-convert\" onclick=\"convertToInteractive('df-8adc69b6-d153-4c8a-b97c-52f2820d70c5')\"\n",
              "              title=\"Convert this dataframe to an interactive table.\"\n",
              "              style=\"display:none;\">\n",
              "        \n",
              "  <svg xmlns=\"http://www.w3.org/2000/svg\" height=\"24px\"viewBox=\"0 0 24 24\"\n",
              "       width=\"24px\">\n",
              "    <path d=\"M0 0h24v24H0V0z\" fill=\"none\"/>\n",
              "    <path d=\"M18.56 5.44l.94 2.06.94-2.06 2.06-.94-2.06-.94-.94-2.06-.94 2.06-2.06.94zm-11 1L8.5 8.5l.94-2.06 2.06-.94-2.06-.94L8.5 2.5l-.94 2.06-2.06.94zm10 10l.94 2.06.94-2.06 2.06-.94-2.06-.94-.94-2.06-.94 2.06-2.06.94z\"/><path d=\"M17.41 7.96l-1.37-1.37c-.4-.4-.92-.59-1.43-.59-.52 0-1.04.2-1.43.59L10.3 9.45l-7.72 7.72c-.78.78-.78 2.05 0 2.83L4 21.41c.39.39.9.59 1.41.59.51 0 1.02-.2 1.41-.59l7.78-7.78 2.81-2.81c.8-.78.8-2.07 0-2.86zM5.41 20L4 18.59l7.72-7.72 1.47 1.35L5.41 20z\"/>\n",
              "  </svg>\n",
              "      </button>\n",
              "      \n",
              "  <style>\n",
              "    .colab-df-container {\n",
              "      display:flex;\n",
              "      flex-wrap:wrap;\n",
              "      gap: 12px;\n",
              "    }\n",
              "\n",
              "    .colab-df-convert {\n",
              "      background-color: #E8F0FE;\n",
              "      border: none;\n",
              "      border-radius: 50%;\n",
              "      cursor: pointer;\n",
              "      display: none;\n",
              "      fill: #1967D2;\n",
              "      height: 32px;\n",
              "      padding: 0 0 0 0;\n",
              "      width: 32px;\n",
              "    }\n",
              "\n",
              "    .colab-df-convert:hover {\n",
              "      background-color: #E2EBFA;\n",
              "      box-shadow: 0px 1px 2px rgba(60, 64, 67, 0.3), 0px 1px 3px 1px rgba(60, 64, 67, 0.15);\n",
              "      fill: #174EA6;\n",
              "    }\n",
              "\n",
              "    [theme=dark] .colab-df-convert {\n",
              "      background-color: #3B4455;\n",
              "      fill: #D2E3FC;\n",
              "    }\n",
              "\n",
              "    [theme=dark] .colab-df-convert:hover {\n",
              "      background-color: #434B5C;\n",
              "      box-shadow: 0px 1px 3px 1px rgba(0, 0, 0, 0.15);\n",
              "      filter: drop-shadow(0px 1px 2px rgba(0, 0, 0, 0.3));\n",
              "      fill: #FFFFFF;\n",
              "    }\n",
              "  </style>\n",
              "\n",
              "      <script>\n",
              "        const buttonEl =\n",
              "          document.querySelector('#df-8adc69b6-d153-4c8a-b97c-52f2820d70c5 button.colab-df-convert');\n",
              "        buttonEl.style.display =\n",
              "          google.colab.kernel.accessAllowed ? 'block' : 'none';\n",
              "\n",
              "        async function convertToInteractive(key) {\n",
              "          const element = document.querySelector('#df-8adc69b6-d153-4c8a-b97c-52f2820d70c5');\n",
              "          const dataTable =\n",
              "            await google.colab.kernel.invokeFunction('convertToInteractive',\n",
              "                                                     [key], {});\n",
              "          if (!dataTable) return;\n",
              "\n",
              "          const docLinkHtml = 'Like what you see? Visit the ' +\n",
              "            '<a target=\"_blank\" href=https://colab.research.google.com/notebooks/data_table.ipynb>data table notebook</a>'\n",
              "            + ' to learn more about interactive tables.';\n",
              "          element.innerHTML = '';\n",
              "          dataTable['output_type'] = 'display_data';\n",
              "          await google.colab.output.renderOutput(dataTable, element);\n",
              "          const docLink = document.createElement('div');\n",
              "          docLink.innerHTML = docLinkHtml;\n",
              "          element.appendChild(docLink);\n",
              "        }\n",
              "      </script>\n",
              "    </div>\n",
              "  </div>\n",
              "  "
            ]
          },
          "metadata": {},
          "execution_count": 28
        }
      ]
    },
    {
      "cell_type": "code",
      "source": [
        "df_2005['labels_3'].value_counts()"
      ],
      "metadata": {
        "colab": {
          "base_uri": "https://localhost:8080/"
        },
        "id": "vWxoOaCcOidQ",
        "outputId": "221e7fae-f02e-4251-ea23-d4fd235651f4"
      },
      "execution_count": null,
      "outputs": [
        {
          "output_type": "execute_result",
          "data": {
            "text/plain": [
              "positive    599\n",
              "neutral     171\n",
              "negative     84\n",
              "Name: labels_3, dtype: int64"
            ]
          },
          "metadata": {},
          "execution_count": 29
        }
      ]
    },
    {
      "cell_type": "code",
      "source": [],
      "metadata": {
        "id": "D_DPFhsAO6T4"
      },
      "execution_count": null,
      "outputs": []
    }
  ]
}