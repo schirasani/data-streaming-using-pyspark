{
  "cells": [
    {
      "cell_type": "code",
      "source": [
        "# source: https://github.com/chaithanya21/Sentiment-Analysis-using-Pyspark-on-Multi-Social-Media-Data/blob/master/pyspark_ml_models.ipynb"
      ],
      "metadata": {
        "id": "tJPEkGJCfSXW"
      },
      "execution_count": null,
      "outputs": []
    },
    {
      "cell_type": "markdown",
      "metadata": {
        "id": "frEGF5C_KURC"
      },
      "source": [
        "## Twitter sentiment analysis and prediction using pyspark"
      ]
    },
    {
      "cell_type": "code",
      "source": [
        "!pip install -q pyspark==3.3.0\n",
        "# spark-nlp==4.3.2"
      ],
      "metadata": {
        "colab": {
          "base_uri": "https://localhost:8080/"
        },
        "id": "l6hZLHmdKbbR",
        "outputId": "763f8dac-e44c-4495-fc19-0d72e2cd026f"
      },
      "execution_count": 16,
      "outputs": [
        {
          "output_type": "stream",
          "name": "stdout",
          "text": [
            "\u001b[2K     \u001b[90m━━━━━━━━━━━━━━━━━━━━━━━━━━━━━━━━━━━━━━━\u001b[0m \u001b[32m281.3/281.3 MB\u001b[0m \u001b[31m4.6 MB/s\u001b[0m eta \u001b[36m0:00:00\u001b[0m\n",
            "\u001b[?25h  Preparing metadata (setup.py) ... \u001b[?25l\u001b[?25hdone\n",
            "\u001b[2K     \u001b[90m━━━━━━━━━━━━━━━━━━━━━━━━━━━━━━━━━━━━━━\u001b[0m \u001b[32m199.7/199.7 kB\u001b[0m \u001b[31m14.3 MB/s\u001b[0m eta \u001b[36m0:00:00\u001b[0m\n",
            "\u001b[?25h  Building wheel for pyspark (setup.py) ... \u001b[?25l\u001b[?25hdone\n"
          ]
        }
      ]
    },
    {
      "cell_type": "code",
      "execution_count": 17,
      "metadata": {
        "id": "jCWTEv7MKURF"
      },
      "outputs": [],
      "source": [
        "from IPython import display\n",
        "import math\n",
        "import pandas as pd\n",
        "import numpy as np\n",
        "\n",
        "from pyspark.sql import SQLContext\n",
        "from pyspark import SparkContext\n",
        "\n",
        "from pyspark.sql.types import *"
      ]
    },
    {
      "cell_type": "markdown",
      "metadata": {
        "id": "fmjWyqj1KURG"
      },
      "source": [
        "### Create Spark Context and load dataset"
      ]
    },
    {
      "cell_type": "code",
      "execution_count": 18,
      "metadata": {
        "colab": {
          "base_uri": "https://localhost:8080/"
        },
        "id": "2msFOYUIKURG",
        "outputId": "81a02ae4-9b00-4396-dd0d-4e278c655e4c"
      },
      "outputs": [
        {
          "output_type": "stream",
          "name": "stderr",
          "text": [
            "/usr/local/lib/python3.9/dist-packages/pyspark/sql/context.py:112: FutureWarning: Deprecated in 3.0.0. Use SparkSession.builder.getOrCreate() instead.\n",
            "  warnings.warn(\n"
          ]
        }
      ],
      "source": [
        "sc = SparkContext()\n",
        "sqlContext = SQLContext(sc)"
      ]
    },
    {
      "cell_type": "code",
      "source": [
        "# MOUNTING GOOGLE DRIVE\n",
        "from google.colab import drive\n",
        "drive.mount('/content/drive')"
      ],
      "metadata": {
        "colab": {
          "base_uri": "https://localhost:8080/"
        },
        "id": "Xj91SDydLQO6",
        "outputId": "2f2586a0-1c3c-4b96-c158-fabac3dca6e0"
      },
      "execution_count": 19,
      "outputs": [
        {
          "output_type": "stream",
          "name": "stdout",
          "text": [
            "Mounted at /content/drive\n"
          ]
        }
      ]
    },
    {
      "cell_type": "code",
      "source": [
        "import os\n",
        "data_path = \"/content/drive/MyDrive/CS 532/cs532_project/data\"\n",
        "df_2005_07_path = os.path.join(data_path, \"review_2005-07.csv\")"
      ],
      "metadata": {
        "id": "wA0gIe4bL4E5"
      },
      "execution_count": 20,
      "outputs": []
    },
    {
      "cell_type": "code",
      "execution_count": 21,
      "metadata": {
        "colab": {
          "base_uri": "https://localhost:8080/"
        },
        "id": "x6IXjyk2KURH",
        "outputId": "da1a4181-c382-4974-feb8-04bf3f194004"
      },
      "outputs": [
        {
          "output_type": "stream",
          "name": "stderr",
          "text": [
            "/usr/local/lib/python3.9/dist-packages/pyspark/sql/pandas/conversion.py:474: FutureWarning: iteritems is deprecated and will be removed in a future version. Use .items instead.\n",
            "  for column, series in pdf.iteritems():\n",
            "/usr/local/lib/python3.9/dist-packages/pyspark/sql/pandas/conversion.py:486: FutureWarning: iteritems is deprecated and will be removed in a future version. Use .items instead.\n",
            "  for column, series in pdf.iteritems():\n"
          ]
        },
        {
          "output_type": "execute_result",
          "data": {
            "text/plain": [
              "20070"
            ]
          },
          "metadata": {},
          "execution_count": 21
        }
      ],
      "source": [
        "import pandas as pd\n",
        "data_pd = pd.read_csv(df_2005_07_path, header=0)\n",
        "\n",
        "df1 = sqlContext.createDataFrame(data_pd)\n",
        "# df1 = sqlContext.read.format(\"csv\").option(\"header\", \"true\").load(df_2005_07_path)\n",
        "\n",
        "df1 = df1.filter((df1.labels_3 == \"positive\") | (df1.labels_3 == \"negative\") | (df1.labels_3 == \"neutral\"))\n",
        "\n",
        "df1.count()"
      ]
    },
    {
      "cell_type": "code",
      "source": [
        "df1.show()"
      ],
      "metadata": {
        "colab": {
          "base_uri": "https://localhost:8080/"
        },
        "id": "d1Us01NvRm5l",
        "outputId": "ea7ef48b-0df2-4302-a9a8-8b6cf82e4bb7"
      },
      "execution_count": 22,
      "outputs": [
        {
          "output_type": "stream",
          "name": "stdout",
          "text": [
            "+--------------------+--------+\n",
            "|                text|labels_3|\n",
            "+--------------------+--------+\n",
            "|It's not chicago ...|positive|\n",
            "|Great service.  T...|positive|\n",
            "|These guys really...|positive|\n",
            "|Words cannot desc...|positive|\n",
            "|Food is decent bu...|negative|\n",
            "|This place gets a...| neutral|\n",
            "|Lovely little res...|positive|\n",
            "|This little hole ...|positive|\n",
            "|This is the origi...|positive|\n",
            "|Oh the Sh*tty Kit...|positive|\n",
            "|Un-safeway.  Meet...|negative|\n",
            "|i love the breadb...|positive|\n",
            "|Chefs awesome, se...|positive|\n",
            "|A hippie coffee s...| neutral|\n",
            "|Overpriced with s...|negative|\n",
            "|Rated 5 stars for...|positive|\n",
            "|Recently changed ...| neutral|\n",
            "|Food is great (ge...|negative|\n",
            "|One of the top Me...|positive|\n",
            "|For Greek food fa...|positive|\n",
            "+--------------------+--------+\n",
            "only showing top 20 rows\n",
            "\n"
          ]
        }
      ]
    },
    {
      "cell_type": "code",
      "source": [
        "from pyspark.sql.functions import udf\n",
        "from pyspark.sql.types import IntegerType\n",
        "\n",
        "def get_label(label): \n",
        "    if label == 'positive': return 1\n",
        "    elif label == 'negative': return -1\n",
        "    else: return 0\n",
        "\n",
        "udf_func = udf(get_label,IntegerType()) #Creating a 'User Defined Function' to calculate distance between two points.\n",
        "df1 = df1.withColumn(\"category\", udf_func(df1.labels_3)) #Creating column \"distance\" based on function 'get_distance'\n",
        "df1.show()"
      ],
      "metadata": {
        "colab": {
          "base_uri": "https://localhost:8080/"
        },
        "id": "5tj0Pp57Q96b",
        "outputId": "79fb5125-70db-44dd-ab03-c1a02dee4bb5"
      },
      "execution_count": 23,
      "outputs": [
        {
          "output_type": "stream",
          "name": "stdout",
          "text": [
            "+--------------------+--------+--------+\n",
            "|                text|labels_3|category|\n",
            "+--------------------+--------+--------+\n",
            "|It's not chicago ...|positive|       1|\n",
            "|Great service.  T...|positive|       1|\n",
            "|These guys really...|positive|       1|\n",
            "|Words cannot desc...|positive|       1|\n",
            "|Food is decent bu...|negative|      -1|\n",
            "|This place gets a...| neutral|       0|\n",
            "|Lovely little res...|positive|       1|\n",
            "|This little hole ...|positive|       1|\n",
            "|This is the origi...|positive|       1|\n",
            "|Oh the Sh*tty Kit...|positive|       1|\n",
            "|Un-safeway.  Meet...|negative|      -1|\n",
            "|i love the breadb...|positive|       1|\n",
            "|Chefs awesome, se...|positive|       1|\n",
            "|A hippie coffee s...| neutral|       0|\n",
            "|Overpriced with s...|negative|      -1|\n",
            "|Rated 5 stars for...|positive|       1|\n",
            "|Recently changed ...| neutral|       0|\n",
            "|Food is great (ge...|negative|      -1|\n",
            "|One of the top Me...|positive|       1|\n",
            "|For Greek food fa...|positive|       1|\n",
            "+--------------------+--------+--------+\n",
            "only showing top 20 rows\n",
            "\n"
          ]
        }
      ]
    },
    {
      "cell_type": "code",
      "execution_count": 24,
      "metadata": {
        "colab": {
          "base_uri": "https://localhost:8080/"
        },
        "id": "uS8GkrupKURI",
        "outputId": "d08ea93d-bd02-4220-df78-e5ac6620de32"
      },
      "outputs": [
        {
          "output_type": "stream",
          "name": "stdout",
          "text": [
            "+--------------------+--------+--------+\n",
            "|                text|labels_3|category|\n",
            "+--------------------+--------+--------+\n",
            "|It's not chicago ...|positive|       1|\n",
            "|Great service.  T...|positive|       1|\n",
            "|These guys really...|positive|       1|\n",
            "|Words cannot desc...|positive|       1|\n",
            "|Food is decent bu...|negative|      -1|\n",
            "+--------------------+--------+--------+\n",
            "only showing top 5 rows\n",
            "\n"
          ]
        }
      ],
      "source": [
        "df = df1\n",
        "data = df.na.drop(how='any')\n",
        "data.show(5)"
      ]
    },
    {
      "cell_type": "code",
      "execution_count": 25,
      "metadata": {
        "colab": {
          "base_uri": "https://localhost:8080/"
        },
        "id": "ZGP5RnPAKURJ",
        "outputId": "b0459f53-c373-48b7-f691-3ef014f4a27a"
      },
      "outputs": [
        {
          "output_type": "execute_result",
          "data": {
            "text/plain": [
              "20070"
            ]
          },
          "metadata": {},
          "execution_count": 25
        }
      ],
      "source": [
        "df.count() "
      ]
    },
    {
      "cell_type": "code",
      "execution_count": 26,
      "metadata": {
        "colab": {
          "base_uri": "https://localhost:8080/"
        },
        "id": "tPTNwbEzKURJ",
        "outputId": "5af32e51-5b39-4ca9-9063-47b788180974"
      },
      "outputs": [
        {
          "output_type": "stream",
          "name": "stdout",
          "text": [
            "root\n",
            " |-- text: string (nullable = true)\n",
            " |-- labels_3: string (nullable = true)\n",
            " |-- category: integer (nullable = true)\n",
            "\n"
          ]
        }
      ],
      "source": [
        "data.printSchema()"
      ]
    },
    {
      "cell_type": "markdown",
      "metadata": {
        "id": "2CXj0t-4KURJ"
      },
      "source": [
        "## Preprocessing"
      ]
    },
    {
      "cell_type": "code",
      "execution_count": 27,
      "metadata": {
        "colab": {
          "base_uri": "https://localhost:8080/"
        },
        "id": "rHW8W4UJKURJ",
        "outputId": "9f283958-b864-4b75-8119-709b7a3b95d6"
      },
      "outputs": [
        {
          "output_type": "stream",
          "name": "stdout",
          "text": [
            "+--------+-----+\n",
            "|labels_3|count|\n",
            "+--------+-----+\n",
            "|positive|14052|\n",
            "| neutral| 3728|\n",
            "|negative| 2290|\n",
            "+--------+-----+\n",
            "\n",
            "+--------+-----+\n",
            "|category|count|\n",
            "+--------+-----+\n",
            "|       1|14052|\n",
            "|       0| 3728|\n",
            "|      -1| 2290|\n",
            "+--------+-----+\n",
            "\n"
          ]
        }
      ],
      "source": [
        "from pyspark.sql.functions import col\n",
        "\n",
        "data.groupBy(\"labels_3\").count().orderBy(col(\"count\").desc()).show()\n",
        "data.groupBy(\"category\").count().orderBy(col(\"count\").desc()).show()"
      ]
    },
    {
      "cell_type": "markdown",
      "metadata": {
        "id": "ej5lCwCoKURJ"
      },
      "source": [
        "## Model Pipeline\n",
        "Spark Machine Learning Pipelines API is similar to Scikit-Learn. Our pipeline includes three steps:\n",
        "\n",
        "regexTokenizer: Tokenization (with Regular Expression)\n",
        "\n",
        "stopwordsRemover: Remove Stop Words\n",
        "\n",
        "countVectors: Count vectors (“document-term vectors”)"
      ]
    },
    {
      "cell_type": "code",
      "source": [
        "s = \"a about after all also always am an and any are at be been being but by came can cant come \\\n",
        "could did didn't do does doesn't doing don't else for from get give goes going had happen \\\n",
        "has have having how i if ill i'm in into is isn't it its i've just keep let like made make \\\n",
        "many may me mean more most much no not now of only or our really say see some something \\\n",
        "take tell than that the their them then they thing this to try up us use used uses very \\\n",
        "want was way we what when where which who why will with without wont you your you're\"\n",
        "more_stop_words = s.split(' ')"
      ],
      "metadata": {
        "id": "Oua6bt6SUL89"
      },
      "execution_count": 28,
      "outputs": []
    },
    {
      "cell_type": "code",
      "execution_count": 29,
      "metadata": {
        "id": "noF_0WpBKURK"
      },
      "outputs": [],
      "source": [
        "from pyspark.ml.feature import RegexTokenizer, StopWordsRemover, CountVectorizer\n",
        "from pyspark.ml.classification import LogisticRegression\n",
        "\n",
        "# regular expression tokenizer\n",
        "regexTokenizer = RegexTokenizer(inputCol=\"text\", outputCol=\"words\", pattern=\"\\\\W\")\n",
        "\n",
        "# stop words\n",
        "# add_stopwords = [\"http\",\"https\",\"amp\",\"rt\",\"t\",\"c\",\"the\"]\n",
        "add_stopwords = [\"http\",\"https\",\"amp\",\"rt\",\"t\",\"c\",\"the\"] + more_stop_words\n",
        "\n",
        "\n",
        "stopwordsRemover = StopWordsRemover(inputCol=\"words\", outputCol=\"filtered\").setStopWords(add_stopwords)\n",
        "\n",
        "# bag of words count\n",
        "countVectors = CountVectorizer(inputCol=\"filtered\", outputCol=\"features\", vocabSize=30000, minDF=5)"
      ]
    },
    {
      "cell_type": "code",
      "execution_count": 30,
      "metadata": {
        "colab": {
          "base_uri": "https://localhost:8080/"
        },
        "id": "4iiQJ5vwKURK",
        "outputId": "bcc6d46c-3615-4f38-8fd0-d4f6de73b5a2"
      },
      "outputs": [
        {
          "output_type": "stream",
          "name": "stdout",
          "text": [
            "+--------------------+--------+--------+--------------------+--------------------+--------------------+-----+\n",
            "|                text|labels_3|category|               words|            filtered|            features|label|\n",
            "+--------------------+--------+--------+--------------------+--------------------+--------------------+-----+\n",
            "|It's not chicago ...|positive|       1|[it, s, not, chic...|[s, chicago, styl...|(13195,[0,32,51,7...|  0.0|\n",
            "|Great service.  T...|positive|       1|[great, service, ...|[great, service, ...|(13195,[1,9,23,31...|  0.0|\n",
            "|These guys really...|positive|       1|[these, guys, rea...|[these, guys, kin...|(13195,[48,66,180...|  0.0|\n",
            "|Words cannot desc...|positive|       1|[words, cannot, d...|[words, cannot, d...|(13195,[0,1,3,8,9...|  0.0|\n",
            "|Food is decent bu...|negative|      -1|[food, is, decent...|[food, decent, co...|(13195,[5,7,31,44...|  2.0|\n",
            "|This place gets a...| neutral|       0|[this, place, get...|[place, gets, 3, ...|(13195,[0,1,3,4,7...|  1.0|\n",
            "|Lovely little res...|positive|       1|[lovely, little, ...|[lovely, little, ...|(13195,[1,3,4,5,7...|  0.0|\n",
            "|This little hole ...|positive|       1|[this, little, ho...|[little, hole, wa...|(13195,[0,6,7,16,...|  0.0|\n",
            "|This is the origi...|positive|       1|[this, is, the, o...|[original, locati...|(13195,[0,2,9,26,...|  0.0|\n",
            "|Oh the Sh*tty Kit...|positive|       1|[oh, the, sh, tty...|[oh, sh, tty, kit...|(13195,[9,18,19,2...|  0.0|\n",
            "|Un-safeway.  Meet...|negative|      -1|[un, safeway, mee...|[un, safeway, mee...|(13195,[7,34,57,1...|  2.0|\n",
            "|i love the breadb...|positive|       1|[i, love, the, br...|[love, breadbowls...|(13195,[35,51,256...|  0.0|\n",
            "|Chefs awesome, se...|positive|       1|[chefs, awesome, ...|[chefs, awesome, ...|(13195,[0,1,3,4,9...|  0.0|\n",
            "|A hippie coffee s...| neutral|       0|[a, hippie, coffe...|[hippie, coffee, ...|(13195,[34,96,108...|  1.0|\n",
            "|Overpriced with s...|negative|      -1|[overpriced, with...|[overpriced, some...|(13195,[2,56,723,...|  2.0|\n",
            "|Rated 5 stars for...|positive|       1|[rated, 5, stars,...|[rated, 5, stars,...|(13195,[104,134,5...|  0.0|\n",
            "|Recently changed ...| neutral|       0|[recently, change...|[recently, change...|(13195,[7,337,364...|  1.0|\n",
            "|Food is great (ge...|negative|      -1|[food, is, great,...|[food, great, men...|(13195,[5,6,7,9,3...|  2.0|\n",
            "|One of the top Me...|positive|       1|[one, of, the, to...|[one, top, mexica...|(13195,[10,23,44,...|  0.0|\n",
            "|For Greek food fa...|positive|       1|[for, greek, food...|[greek, food, fas...|(13195,[0,2,7,9,1...|  0.0|\n",
            "+--------------------+--------+--------+--------------------+--------------------+--------------------+-----+\n",
            "only showing top 20 rows\n",
            "\n"
          ]
        }
      ],
      "source": [
        "from pyspark.ml import Pipeline\n",
        "from pyspark.ml.feature import OneHotEncoder, StringIndexer, VectorAssembler\n",
        "label_stringIdx = StringIndexer(inputCol = \"category\", outputCol = \"label\")\n",
        "\n",
        "pipeline = Pipeline(stages=[regexTokenizer, stopwordsRemover, countVectors, label_stringIdx])\n",
        "\n",
        "# Fit the pipeline to training documents.\n",
        "pipelineFit = pipeline.fit(data)\n",
        "dataset = pipelineFit.transform(data)\n",
        "dataset.show(20)"
      ]
    },
    {
      "cell_type": "markdown",
      "metadata": {
        "id": "xR9NLb9sKURK"
      },
      "source": [
        "## Partition Training & Test sets¶"
      ]
    },
    {
      "cell_type": "code",
      "execution_count": 31,
      "metadata": {
        "colab": {
          "base_uri": "https://localhost:8080/"
        },
        "id": "J9zfvv3nKURK",
        "outputId": "2a9d17ab-1d30-441f-d88f-50648d167d9f"
      },
      "outputs": [
        {
          "output_type": "stream",
          "name": "stdout",
          "text": [
            "Training Dataset Count: 14042\n",
            "Test Dataset Count: 6028\n"
          ]
        }
      ],
      "source": [
        "# set seed for reproducibility\n",
        "(trainingData, testData) = dataset.randomSplit([0.7, 0.3], seed = 100)\n",
        "print(\"Training Dataset Count: \" + str(trainingData.count()))\n",
        "print(\"Test Dataset Count: \" + str(testData.count()))"
      ]
    },
    {
      "cell_type": "code",
      "source": [
        "type(testData)"
      ],
      "metadata": {
        "colab": {
          "base_uri": "https://localhost:8080/"
        },
        "id": "CNo2q5KJozrB",
        "outputId": "7a4d465d-8871-4357-bd33-6d53ddf3d526"
      },
      "execution_count": 32,
      "outputs": [
        {
          "output_type": "execute_result",
          "data": {
            "text/plain": [
              "pyspark.sql.dataframe.DataFrame"
            ]
          },
          "metadata": {},
          "execution_count": 32
        }
      ]
    },
    {
      "cell_type": "markdown",
      "metadata": {
        "id": "66u70epRKURK"
      },
      "source": [
        "## Model Training and Evaluation\n",
        "Logistic Regression using Count Vector Features \n",
        "\n",
        "Our model will make predictions and score on the test set; we then look at the top 10 predictions from the highest probability."
      ]
    },
    {
      "cell_type": "code",
      "execution_count": 33,
      "metadata": {
        "colab": {
          "base_uri": "https://localhost:8080/"
        },
        "id": "CpcrhexbKURK",
        "outputId": "c96b1d05-c426-43c8-9188-7ad0ec46300d"
      },
      "outputs": [
        {
          "output_type": "stream",
          "name": "stdout",
          "text": [
            "+------------------------------+--------+------------------------------+-----+----------+\n",
            "|                          text|category|                   probability|label|prediction|\n",
            "+------------------------------+--------+------------------------------+-----+----------+\n",
            "|So how do I start to tell y...|       1|[0.9999819554785729,1.24072...|  0.0|       0.0|\n",
            "|THE FOOD! THE EXPERIENCE!\\n...|       1|[0.9999818940859319,5.72374...|  0.0|       0.0|\n",
            "|I visited the Indiana State...|       1|[0.999980096952317,3.288255...|  0.0|       0.0|\n",
            "|Dear Mollie,\\n\\nI love you ...|       1|[0.9999735931268977,7.36601...|  0.0|       0.0|\n",
            "|Walking tour?! With a guide...|       1|[0.9999332819350316,3.00460...|  0.0|       0.0|\n",
            "|I'm just really going to ha...|       1|[0.9998313465940412,6.11425...|  0.0|       0.0|\n",
            "|When I was a child, my fath...|       1|[0.9997810107301484,9.52992...|  0.0|       0.0|\n",
            "|Not as elegant as some fine...|       1|[0.9997546407404078,2.13474...|  0.0|       0.0|\n",
            "|There are so many reasons t...|       1|[0.9997404076004444,7.44116...|  0.0|       0.0|\n",
            "|Traveling foodies always do...|       1|[0.9996702820906114,1.01555...|  0.0|       0.0|\n",
            "+------------------------------+--------+------------------------------+-----+----------+\n",
            "only showing top 10 rows\n",
            "\n"
          ]
        }
      ],
      "source": [
        "lr = LogisticRegression(maxIter=1000, regParam=0.3, elasticNetParam=0)\n",
        "lrModel = lr.fit(trainingData)\n",
        "\n",
        "predictions = lrModel.transform(testData)\n",
        "\n",
        "predictions.filter(predictions['prediction'] == 0).select(\"text\",\"category\",\"probability\",\"label\",\"prediction\")\\\n",
        ".orderBy(\"probability\", ascending=False).show(n = 10, truncate = 30)"
      ]
    },
    {
      "cell_type": "code",
      "execution_count": 34,
      "metadata": {
        "colab": {
          "base_uri": "https://localhost:8080/"
        },
        "id": "53mytZzSKURL",
        "outputId": "811b48af-7c93-48b0-b5b3-846d3aa957e8"
      },
      "outputs": [
        {
          "output_type": "stream",
          "name": "stdout",
          "text": [
            "0.6815920305559869\n"
          ]
        }
      ],
      "source": [
        "from pyspark.ml.evaluation import MulticlassClassificationEvaluator\n",
        "evaluator = MulticlassClassificationEvaluator(predictionCol=\"prediction\")\n",
        "lrAccuracy = evaluator.evaluate(predictions)\n",
        "print(lrAccuracy)"
      ]
    },
    {
      "cell_type": "markdown",
      "metadata": {
        "id": "4LTS3VxNKURL"
      },
      "source": [
        "### ROC curve"
      ]
    },
    {
      "cell_type": "markdown",
      "metadata": {
        "id": "gx09LrTEKURL"
      },
      "source": [
        "https://spark.apache.org/docs/latest/ml-classification-regression.html#multinomial-logistic-regression\n",
        "\n",
        "https://spark.apache.org/docs/2.3.0/api/java/org/apache/spark/ml/classification/LogisticRegressionTrainingSummary.html"
      ]
    },
    {
      "cell_type": "code",
      "execution_count": 35,
      "metadata": {
        "colab": {
          "base_uri": "https://localhost:8080/"
        },
        "id": "Q-SHK6uoKURL",
        "outputId": "ff679d08-97e6-4813-d746-07f25fb0e2cb"
      },
      "outputs": [
        {
          "output_type": "stream",
          "name": "stdout",
          "text": [
            "\n",
            "False positive rate by label:\n",
            "label 0: 0.33520994604738447\n",
            "label 1: 0.00333889816360601\n",
            "label 2: 0.0001607717041800643\n",
            "\n",
            "True positive rate by label:\n",
            "label 0: 0.9995909602208815\n",
            "label 1: 0.6298384066140549\n",
            "label 2: 0.700374531835206\n",
            "\n",
            "Precision by label:\n",
            "label 0: 0.8724562656194217\n",
            "label 1: 0.9778296382730455\n",
            "label 2: 0.998220640569395\n",
            "\n",
            "Recall by label:\n",
            "label 0: 0.9995909602208815\n",
            "label 1: 0.6298384066140549\n",
            "label 2: 0.700374531835206\n",
            "\n",
            "F-measure by label:\n",
            "label 0: 0.9317066196444741\n",
            "label 1: 0.7661714285714286\n",
            "label 2: 0.8231841526045488\n",
            "\n",
            "Accuracy: 0.895385272753169\n",
            "\n",
            "FPR: 0.2340948886683396\n",
            "\n",
            "TPR: 0.8953852727531691\n",
            "\n",
            "F-measure: 0.8879562895174741\n",
            "\n",
            "Precision: 0.9067728211885109\n",
            "\n",
            "Recall: 0.8953852727531691\n"
          ]
        }
      ],
      "source": [
        "trainingSummary = lrModel.summary\n",
        "\n",
        "# for multiclass, we can inspect metrics on a per-label basis\n",
        "print(\"\\nFalse positive rate by label:\")\n",
        "for i, rate in enumerate(trainingSummary.falsePositiveRateByLabel):\n",
        "    print(\"label %d: %s\" % (i, rate))\n",
        "\n",
        "print(\"\\nTrue positive rate by label:\")\n",
        "for i, rate in enumerate(trainingSummary.truePositiveRateByLabel):\n",
        "    print(\"label %d: %s\" % (i, rate))\n",
        "\n",
        "print(\"\\nPrecision by label:\")\n",
        "for i, prec in enumerate(trainingSummary.precisionByLabel):\n",
        "    print(\"label %d: %s\" % (i, prec))\n",
        "\n",
        "print(\"\\nRecall by label:\")\n",
        "for i, rec in enumerate(trainingSummary.recallByLabel):\n",
        "    print(\"label %d: %s\" % (i, rec))\n",
        "\n",
        "print(\"\\nF-measure by label:\")\n",
        "for i, f in enumerate(trainingSummary.fMeasureByLabel()):\n",
        "    print(\"label %d: %s\" % (i, f))\n",
        "\n",
        "accuracy = trainingSummary.accuracy\n",
        "falsePositiveRate = trainingSummary.weightedFalsePositiveRate\n",
        "truePositiveRate = trainingSummary.weightedTruePositiveRate\n",
        "fMeasure = trainingSummary.weightedFMeasure()\n",
        "precision = trainingSummary.weightedPrecision\n",
        "recall = trainingSummary.weightedRecall\n",
        "print(\"\\nAccuracy: %s\\n\\nFPR: %s\\n\\nTPR: %s\\n\\nF-measure: %s\\n\\nPrecision: %s\\n\\nRecall: %s\"\n",
        "      % (accuracy, falsePositiveRate, truePositiveRate, fMeasure, precision, recall))"
      ]
    },
    {
      "cell_type": "markdown",
      "metadata": {
        "id": "aYPMh3cTKURL"
      },
      "source": [
        "## Logistic Regression using TF-IDF Features¶"
      ]
    },
    {
      "cell_type": "code",
      "execution_count": 36,
      "metadata": {
        "colab": {
          "base_uri": "https://localhost:8080/"
        },
        "id": "JUjxNYopKURL",
        "outputId": "dd7641b8-e80c-4b1d-c923-0a59c0bf6ce9"
      },
      "outputs": [
        {
          "output_type": "stream",
          "name": "stdout",
          "text": [
            "+------------------------------+--------+------------------------------+-----+----------+\n",
            "|                          text|category|                   probability|label|prediction|\n",
            "+------------------------------+--------+------------------------------+-----+----------+\n",
            "|If anywhere on this good ea...|       1|[0.9999304286992323,1.03087...|  0.0|       0.0|\n",
            "|Dear Mollie,\\n\\nI love you ...|       1|[0.9999203539652023,1.33418...|  0.0|       0.0|\n",
            "|THE FOOD! THE EXPERIENCE!\\n...|       1|[0.9999004676689583,3.60636...|  0.0|       0.0|\n",
            "|Walking tour?! With a guide...|       1|[0.9997486777859416,5.15519...|  0.0|       0.0|\n",
            "|When I was a child, my fath...|       1|[0.9997237098488343,1.38676...|  0.0|       0.0|\n",
            "|Having just read about Marc...|       1|[0.9996943709164281,1.49459...|  0.0|       0.0|\n",
            "|Can't say enough fabulous t...|       1|[0.9995444511877267,8.14861...|  0.0|       0.0|\n",
            "|I'm just really going to ha...|       1|[0.999352916333634,1.643091...|  0.0|       0.0|\n",
            "|i have to preface this by s...|       1|[0.9992315284734435,4.48341...|  0.0|       0.0|\n",
            "|Can't make to Orleans?  \\nT...|       1|[0.9991485695327869,3.83560...|  0.0|       0.0|\n",
            "+------------------------------+--------+------------------------------+-----+----------+\n",
            "only showing top 10 rows\n",
            "\n"
          ]
        }
      ],
      "source": [
        "from pyspark.ml.feature import HashingTF, IDF\n",
        "\n",
        "hashingTF = HashingTF(inputCol=\"filtered\", outputCol=\"rawFeatures\", numFeatures=30000)\n",
        "idf = IDF(inputCol=\"rawFeatures\", outputCol=\"features\", minDocFreq=5) #minDocFreq: remove sparse terms\n",
        "pipeline = Pipeline(stages=[regexTokenizer, stopwordsRemover, hashingTF, idf, label_stringIdx])\n",
        "\n",
        "pipelineFit = pipeline.fit(data)\n",
        "dataset = pipelineFit.transform(data)\n",
        "\n",
        "(trainingData, testData) = dataset.randomSplit([0.7, 0.3], seed = 100)\n",
        "lr = LogisticRegression(maxIter=1000, regParam=0.3, elasticNetParam=0)\n",
        "lrModel = lr.fit(trainingData)\n",
        "\n",
        "predictions = lrModel.transform(testData)\n",
        "\n",
        "predictions.filter(predictions['prediction'] == 0) \\\n",
        "    .select(\"text\",\"category\",\"probability\",\"label\",\"prediction\") \\\n",
        "    .orderBy(\"probability\", ascending=False) \\\n",
        "    .show(n = 10, truncate = 30)"
      ]
    },
    {
      "cell_type": "code",
      "execution_count": 37,
      "metadata": {
        "colab": {
          "base_uri": "https://localhost:8080/"
        },
        "id": "7Y656FUAKURM",
        "outputId": "5ed01858-cc83-438a-bb13-dc5de2cd4f8a"
      },
      "outputs": [
        {
          "output_type": "execute_result",
          "data": {
            "text/plain": [
              "0.6819544058700594"
            ]
          },
          "metadata": {},
          "execution_count": 37
        }
      ],
      "source": [
        "evaluator = MulticlassClassificationEvaluator(predictionCol=\"prediction\")\n",
        "evaluator.evaluate(predictions)"
      ]
    },
    {
      "cell_type": "code",
      "source": [
        "# SAVE MODEL\n",
        "# lrModel.save(os.path.join(data_path, \"LR_model_2\"))"
      ],
      "metadata": {
        "id": "VCFhnbkYkIJp"
      },
      "execution_count": null,
      "outputs": []
    },
    {
      "cell_type": "markdown",
      "metadata": {
        "id": "WYNFYOinKURM"
      },
      "source": [
        "## Cross-Validation\n",
        "Let’s now try cross-validation to tune our hyper parameters, and we will only tune the count vectors Logistic Regression."
      ]
    },
    {
      "cell_type": "code",
      "execution_count": 38,
      "metadata": {
        "id": "kukZ1XYzKURM"
      },
      "outputs": [],
      "source": [
        "pipeline = Pipeline(stages=[regexTokenizer, stopwordsRemover, countVectors, label_stringIdx])\n",
        "\n",
        "pipelineFit = pipeline.fit(data)\n",
        "dataset = pipelineFit.transform(data)\n",
        "(trainingData, testData) = dataset.randomSplit([0.7, 0.3], seed = 100)\n",
        "\n",
        "lr = LogisticRegression(maxIter=1000, regParam=0.3, elasticNetParam=0)"
      ]
    },
    {
      "cell_type": "code",
      "source": [
        "testData.show(10)"
      ],
      "metadata": {
        "colab": {
          "base_uri": "https://localhost:8080/"
        },
        "id": "9-xCIB40cXcK",
        "outputId": "a4699420-5e90-4331-d202-9f11dff8cf6b"
      },
      "execution_count": 43,
      "outputs": [
        {
          "output_type": "stream",
          "name": "stdout",
          "text": [
            "+--------------------+--------+--------+--------------------+--------------------+--------------------+-----+\n",
            "|                text|labels_3|category|               words|            filtered|            features|label|\n",
            "+--------------------+--------+--------+--------------------+--------------------+--------------------+-----+\n",
            "|\"Every time I hav...|positive|       1|[every, time, i, ...|[every, time, gon...|(13195,[2,6,7,11,...|  0.0|\n",
            "|\"Oh have you trie...|negative|      -1|[oh, have, you, t...|[oh, tried, jims,...|(13195,[0,2,6,8,1...|  2.0|\n",
            "|\"Oh, sweet Madele...|positive|       1|[oh, sweet, madel...|[oh, sweet, madel...|(13195,[4,6,14,16...|  0.0|\n",
            "|\"There's Nothing ...|positive|       1|[there, s, nothin...|[there, s, nothin...|(13195,[0,1,2,4,5...|  0.0|\n",
            "|\"This is a great ...|positive|       1|[this, is, a, gre...|[great, place, sp...|(13195,[3,8,9,10,...|  0.0|\n",
            "|\"You're going to ...|negative|      -1|[you, re, going, ...|[re, philadelphia...|(13195,[0,1,2,4,5...|  2.0|\n",
            "|\"are we going to ...|positive|       1|[are, we, going, ...|[play, my, husban...|(13195,[1,2,3,5,6...|  0.0|\n",
            "|\"whadduya want, w...|positive|       1|[whadduya, want, ...|[whadduya, waht, ...|(13195,[0,3,5,6,1...|  0.0|\n",
            "|$1.50 for polish ...|positive|       1|[1, 50, for, poli...|[1, 50, polish, d...|(13195,[0,1,4,10,...|  0.0|\n",
            "|'Um... with some ...|positive|       1|[um, with, some, ...|[um, ranch, wild,...|(13195,[0,2,4,6,1...|  0.0|\n",
            "+--------------------+--------+--------+--------------------+--------------------+--------------------+-----+\n",
            "only showing top 10 rows\n",
            "\n"
          ]
        }
      ]
    },
    {
      "cell_type": "code",
      "execution_count": 44,
      "metadata": {
        "colab": {
          "base_uri": "https://localhost:8080/"
        },
        "id": "ZwdwbdsuKURM",
        "outputId": "b49fa6d8-d57a-47d1-917b-5b2346e04c78"
      },
      "outputs": [
        {
          "output_type": "execute_result",
          "data": {
            "text/plain": [
              "0.6947456456510891"
            ]
          },
          "metadata": {},
          "execution_count": 44
        }
      ],
      "source": [
        "from pyspark.ml.tuning import ParamGridBuilder, CrossValidator\n",
        "\n",
        "# Create ParamGrid for Cross Validation\n",
        "paramGrid = (ParamGridBuilder()\n",
        "             .addGrid(lr.regParam, [0.1, 0.3, 0.5]) # regularization parameter\n",
        "             .addGrid(lr.elasticNetParam, [0.0, 0.1, 0.2]) # Elastic Net Parameter (Ridge = 0)\n",
        "#            .addGrid(model.maxIter, [10, 20, 50]) #Number of iterations\n",
        "#            .addGrid(idf.numFeatures, [10, 100, 1000]) # Number of features\n",
        "             .build())\n",
        "\n",
        "# Create 5-fold CrossValidator\n",
        "cv = CrossValidator(estimator=lr, \\\n",
        "                    estimatorParamMaps=paramGrid, \\\n",
        "                    evaluator=evaluator, \\\n",
        "                    numFolds=5)\n",
        "\n",
        "cvModel = cv.fit(trainingData)\n",
        "\n",
        "predictions = cvModel.transform(testData)\n",
        "# Evaluate best model\n",
        "evaluator = MulticlassClassificationEvaluator(predictionCol=\"prediction\")\n",
        "evaluator.evaluate(predictions)\n",
        "#print(\"Test Area Under ROC: \" + str(evaluator.evaluate(predictions, {evaluator.metricName: \"areaUnderROC\"})))"
      ]
    },
    {
      "cell_type": "markdown",
      "metadata": {
        "id": "V4-kOKdYKURM"
      },
      "source": [
        "## Naive Bayes"
      ]
    },
    {
      "cell_type": "code",
      "execution_count": 40,
      "metadata": {
        "colab": {
          "base_uri": "https://localhost:8080/"
        },
        "id": "oYLu2shqKURM",
        "outputId": "8c39505c-8d25-42bf-8a6a-224ec98b0553"
      },
      "outputs": [
        {
          "output_type": "stream",
          "name": "stdout",
          "text": [
            "+------------------------------+--------+------------------------------+-----+----------+\n",
            "|                          text|category|                   probability|label|prediction|\n",
            "+------------------------------+--------+------------------------------+-----+----------+\n",
            "|A charming BYO with creativ...|       1|[1.0,6.441606333075756E-17,...|  0.0|       0.0|\n",
            "|If you're looking for uniqu...|       1|[1.0,1.9046210464466437E-18...|  0.0|       0.0|\n",
            "|Absolutely Fantastic.\\n\\nNo...|       1|[1.0,4.421137038596867E-19,...|  0.0|       0.0|\n",
            "|Dear Mollie,\\n\\nI love you ...|       1|[1.0,1.3694542475292946E-19...|  0.0|       0.0|\n",
            "|Walking tour?! With a guide...|       1|[1.0,5.981693826964445E-20,...|  0.0|       0.0|\n",
            "|When I was a child, my fath...|       1|[1.0,4.408276831063535E-20,...|  0.0|       0.0|\n",
            "|Get to the point: Tradition...|       1|[1.0,1.0555064133516752E-21...|  0.0|       0.0|\n",
            "|THE FOOD! THE EXPERIENCE!\\n...|       1|[1.0,6.16694820449366E-23,2...|  0.0|       0.0|\n",
            "|Not as elegant as some fine...|       1|[1.0,3.603331364911356E-23,...|  0.0|       0.0|\n",
            "|Having just read about Marc...|       1|[1.0,4.775591184766474E-24,...|  0.0|       0.0|\n",
            "+------------------------------+--------+------------------------------+-----+----------+\n",
            "only showing top 10 rows\n",
            "\n"
          ]
        }
      ],
      "source": [
        "from pyspark.ml.classification import NaiveBayes\n",
        "nb = NaiveBayes(smoothing=1)\n",
        "nbModel = nb.fit(trainingData)\n",
        "predictions = nbModel.transform(testData)\n",
        "predictions.filter(predictions['prediction'] == 0) \\\n",
        "    .select(\"text\",\"category\",\"probability\",\"label\",\"prediction\") \\\n",
        "    .orderBy(\"probability\", ascending=False) \\\n",
        "    .show(n = 10, truncate = 30)"
      ]
    },
    {
      "cell_type": "code",
      "execution_count": 41,
      "metadata": {
        "colab": {
          "base_uri": "https://localhost:8080/"
        },
        "id": "fOg5KLyjKURM",
        "outputId": "e4e12b6f-0895-4fdf-cd18-3a4f6e92a0aa"
      },
      "outputs": [
        {
          "output_type": "stream",
          "name": "stdout",
          "text": [
            "0.7161274960797515\n"
          ]
        }
      ],
      "source": [
        "evaluator = MulticlassClassificationEvaluator(predictionCol=\"prediction\")\n",
        "nbAccuracy = evaluator.evaluate(predictions)\n",
        "print(nbAccuracy)"
      ]
    },
    {
      "cell_type": "code",
      "source": [
        "# SAVE MODEL\n",
        "nbModel.save(os.path.join(data_path, \"NB_model\"))"
      ],
      "metadata": {
        "id": "tcZiZDoWZX2c"
      },
      "execution_count": 42,
      "outputs": []
    },
    {
      "cell_type": "markdown",
      "metadata": {
        "id": "FBXpDRrZKURM"
      },
      "source": [
        "### DecisionTreeClassifier"
      ]
    },
    {
      "cell_type": "code",
      "execution_count": null,
      "metadata": {
        "colab": {
          "base_uri": "https://localhost:8080/"
        },
        "id": "xxtmf1KgKURM",
        "outputId": "f7e37da5-431c-45fc-a3a6-1be2a01f668a"
      },
      "outputs": [
        {
          "output_type": "stream",
          "name": "stdout",
          "text": [
            "+------------------------------+--------+-------------+-----+----------+\n",
            "|                          text|category|  probability|label|prediction|\n",
            "+------------------------------+--------+-------------+-----+----------+\n",
            "|Govinda's Cafe (Gourmet to ...|       1|[1.0,0.0,0.0]|  0.0|       0.0|\n",
            "|An average neighborhood che...|       0|[1.0,0.0,0.0]|  1.0|       0.0|\n",
            "|\"Oh have you tried Jims? Yo...|      -1|[1.0,0.0,0.0]|  2.0|       0.0|\n",
            "|I love 610 because, while y...|       1|[1.0,0.0,0.0]|  0.0|       0.0|\n",
            "|I ordered a turkey sandwich...|       0|[1.0,0.0,0.0]|  1.0|       0.0|\n",
            "|I visited S&W last night du...|       0|[1.0,0.0,0.0]|  1.0|       0.0|\n",
            "|I've been once, and I was n...|       0|[1.0,0.0,0.0]|  1.0|       0.0|\n",
            "|If you love quality...\\n\\nI...|       1|[1.0,0.0,0.0]|  0.0|       0.0|\n",
            "|Obviously the place is clea...|       1|[1.0,0.0,0.0]|  0.0|       0.0|\n",
            "|Tasty and cheap average Mex...|       1|[1.0,0.0,0.0]|  0.0|       0.0|\n",
            "+------------------------------+--------+-------------+-----+----------+\n",
            "only showing top 10 rows\n",
            "\n"
          ]
        }
      ],
      "source": [
        "from pyspark.ml.classification import DecisionTreeClassifier\n",
        "dt = DecisionTreeClassifier(featuresCol = 'features', labelCol = 'label', maxDepth = 10)\n",
        "dtModel = dt.fit(trainingData)\n",
        "predictions = dtModel.transform(testData)\n",
        "predictions.filter(predictions['prediction'] == 0) \\\n",
        "    .select(\"text\",\"category\",\"probability\",\"label\",\"prediction\") \\\n",
        "    .orderBy(\"probability\", ascending=False) \\\n",
        "    .show(n = 10, truncate = 30)"
      ]
    },
    {
      "cell_type": "code",
      "execution_count": null,
      "metadata": {
        "colab": {
          "base_uri": "https://localhost:8080/"
        },
        "id": "OkJEYue9KURM",
        "outputId": "ac706570-5ecd-4f88-b3f9-848bea5853d6"
      },
      "outputs": [
        {
          "output_type": "stream",
          "name": "stdout",
          "text": [
            "0.6237050209452044\n"
          ]
        }
      ],
      "source": [
        "evaluator = MulticlassClassificationEvaluator(predictionCol=\"prediction\")\n",
        "dtAccuracy = evaluator.evaluate(predictions)\n",
        "print(dtAccuracy) "
      ]
    },
    {
      "cell_type": "markdown",
      "metadata": {
        "id": "AVn-0wYCKURN"
      },
      "source": [
        "## Random Forest"
      ]
    },
    {
      "cell_type": "code",
      "execution_count": null,
      "metadata": {
        "colab": {
          "base_uri": "https://localhost:8080/"
        },
        "id": "GAemWq2QKURN",
        "outputId": "90c2923f-505f-40a9-a713-f42bc43fb944"
      },
      "outputs": [
        {
          "output_type": "stream",
          "name": "stdout",
          "text": [
            "+------------------------------+--------+------------------------------+-----+----------+\n",
            "|                          text|category|                   probability|label|prediction|\n",
            "+------------------------------+--------+------------------------------+-----+----------+\n",
            "|This place is always packed...|       1|[0.8101103285865597,0.13377...|  0.0|       0.0|\n",
            "|Norma's is absolutely my FA...|       1|[0.8064194921944724,0.13133...|  0.0|       0.0|\n",
            "|This is definitely one of m...|       1|[0.8055500541869531,0.13107...|  0.0|       0.0|\n",
            "|I have lived in Reno my ent...|       1|[0.8051380462018564,0.12746...|  0.0|       0.0|\n",
            "|If you are looking for a go...|       1|[0.7972709175118315,0.13790...|  0.0|       0.0|\n",
            "|Amazing. Everything we ate ...|       1|[0.7957758220145466,0.13156...|  0.0|       0.0|\n",
            "|Wonderful neighborhood plac...|       1|[0.793230850396304,0.135083...|  0.0|       0.0|\n",
            "|I loved NOLA. Such a great ...|       1|[0.7923947587266099,0.13872...|  0.0|       0.0|\n",
            "|Excellent soups and salads....|       1|[0.7913960786381882,0.14242...|  0.0|       0.0|\n",
            "|I read great reviews about ...|       1|[0.7909996520399131,0.13818...|  0.0|       0.0|\n",
            "+------------------------------+--------+------------------------------+-----+----------+\n",
            "only showing top 10 rows\n",
            "\n"
          ]
        }
      ],
      "source": [
        "from pyspark.ml.classification import RandomForestClassifier\n",
        "rf = RandomForestClassifier(labelCol=\"label\", \\\n",
        "                            featuresCol=\"features\", \\\n",
        "                            numTrees = 400, \\\n",
        "                            maxDepth = 16, \\\n",
        "                            maxBins = 32)\n",
        "# Train model with Training Data\n",
        "rfModel = rf.fit(trainingData)\n",
        "predictions = rfModel.transform(testData)\n",
        "predictions.filter(predictions['prediction'] == 0) \\\n",
        "    .select(\"text\",\"category\",\"probability\",\"label\",\"prediction\") \\\n",
        "    .orderBy(\"probability\", ascending=False) \\\n",
        "    .show(n = 10, truncate = 30)"
      ]
    },
    {
      "cell_type": "code",
      "execution_count": null,
      "metadata": {
        "colab": {
          "base_uri": "https://localhost:8080/"
        },
        "id": "G4lpzb4gKURN",
        "outputId": "2a4dccf9-1864-4c63-a7e3-fd1541a97b99"
      },
      "outputs": [
        {
          "output_type": "stream",
          "name": "stdout",
          "text": [
            "0.5880891277394487\n"
          ]
        }
      ],
      "source": [
        "evaluator = MulticlassClassificationEvaluator(predictionCol=\"prediction\")\n",
        "rfAccuracy = evaluator.evaluate(predictions)\n",
        "print(rfAccuracy) "
      ]
    },
    {
      "cell_type": "markdown",
      "metadata": {
        "id": "4IZcAm0OKURN"
      },
      "source": [
        "## OnevsRest classifer"
      ]
    },
    {
      "cell_type": "code",
      "execution_count": null,
      "metadata": {
        "colab": {
          "base_uri": "https://localhost:8080/"
        },
        "id": "aAq_eqrOKURN",
        "outputId": "87c4a227-358d-4bc4-827f-6646f13ff4f7"
      },
      "outputs": [
        {
          "output_type": "stream",
          "name": "stdout",
          "text": [
            "+------------------------------+--------+-----+----------+\n",
            "|                          text|category|label|prediction|\n",
            "+------------------------------+--------+-----+----------+\n",
            "|\"Every time I have gone par...|       1|  0.0|       0.0|\n",
            "|\"Oh have you tried Jims? Yo...|      -1|  2.0|       0.0|\n",
            "|\"Oh, sweet Madeleine\\nGood ...|       1|  0.0|       0.0|\n",
            "|\"There's Nothing Like A Gre...|       1|  0.0|       0.0|\n",
            "|\"This is a great place - if...|       1|  0.0|       0.0|\n",
            "|\"are we going to see a play...|       1|  0.0|       0.0|\n",
            "|\"whadduya want, waht kind o...|       1|  0.0|       0.0|\n",
            "|$1.50 for polish dog and so...|       1|  0.0|       0.0|\n",
            "|'Um... with some ranch and ...|       1|  0.0|       0.0|\n",
            "|'twas good. My favorite typ...|       1|  0.0|       0.0|\n",
            "+------------------------------+--------+-----+----------+\n",
            "only showing top 10 rows\n",
            "\n"
          ]
        }
      ],
      "source": [
        "from pyspark.ml.classification import LogisticRegression, OneVsRest\n",
        "\n",
        "lr = LogisticRegression(maxIter=1000, regParam=0.3, elasticNetParam=0)\n",
        "\n",
        "ovr = OneVsRest(classifier=lr)\n",
        "\n",
        "ovrModel = ovr.fit(trainingData)\n",
        "\n",
        "# score the model on test data.\n",
        "predictions = ovrModel.transform(testData)\n",
        "\n",
        "predictions.filter(predictions['prediction'] == 0) \\\n",
        "    .select(\"text\",\"category\",\"label\",\"prediction\") \\\n",
        "    .show(n = 10, truncate = 30)"
      ]
    },
    {
      "cell_type": "code",
      "execution_count": null,
      "metadata": {
        "colab": {
          "base_uri": "https://localhost:8080/"
        },
        "id": "LzqxjDJZKURN",
        "outputId": "d473d2b4-651e-409e-f1c3-af8a5b59a8ad"
      },
      "outputs": [
        {
          "output_type": "stream",
          "name": "stdout",
          "text": [
            "0.6631934010728144\n"
          ]
        }
      ],
      "source": [
        "evaluator = MulticlassClassificationEvaluator(predictionCol=\"prediction\")\n",
        "ovrAccuracy = evaluator.evaluate(predictions)\n",
        "print(ovrAccuracy)"
      ]
    },
    {
      "cell_type": "markdown",
      "metadata": {
        "id": "GjhKbLpCKURN"
      },
      "source": [
        "## Visualization"
      ]
    },
    {
      "cell_type": "code",
      "execution_count": 14,
      "metadata": {
        "id": "QUQT7bzrKURN"
      },
      "outputs": [],
      "source": [
        "import matplotlib.pyplot as plt\n",
        "import numpy as np\n",
        "\n",
        "model = ['Logistic regression', 'Naive Bayes', 'Random Forest', 'OneVsRest']\n",
        "accuracy = [lrAccuracy, nbAccuracy, rfAccuracy, ovrAccuracy]\n",
        "# accuracy = [0.6815920305559869, 0.7161274960797515, 0.5880891277394487, 0.6631934010728144]"
      ]
    },
    {
      "cell_type": "code",
      "execution_count": 15,
      "metadata": {
        "colab": {
          "base_uri": "https://localhost:8080/",
          "height": 535
        },
        "id": "WkT5paXqKURN",
        "outputId": "1849ccab-1d8f-4ce8-9d0c-a76e27e6344f"
      },
      "outputs": [
        {
          "output_type": "display_data",
          "data": {
            "text/plain": [
              "<Figure size 640x480 with 1 Axes>"
            ],
            "image/png": "[encoded data removed]"
          },
          "metadata": {}
        }
      ],
      "source": [
        "def plot_bar_x():\n",
        "    # this is for plotting purpose\n",
        "    index = np.arange(len(model))\n",
        "    plt.bar(index, accuracy)\n",
        "    plt.xlabel('models', fontsize=10)\n",
        "    plt.ylabel('Prediction accuracy', fontsize=10)\n",
        "    plt.xticks(index, model, fontsize=10, rotation=30)\n",
        "    plt.title('Accuracy of each model')\n",
        "    plt.show()\n",
        "    \n",
        "plot_bar_x()"
      ]
    },
    {
      "cell_type": "code",
      "source": [
        "import matplotlib.pyplot as plt\n",
        "import numpy as np\n",
        "\n",
        "model = ['sentimentdl_use_twitter', 'sentimentdl_use_imdb']\n",
        "accuracy = [0.7140733378040285, 0.7759489577717824]\n",
        "\n",
        "def plot_bar_x():\n",
        "    # this is for plotting purpose\n",
        "    index = np.arange(len(model))\n",
        "    plt.bar(index, accuracy)\n",
        "    plt.xlabel('Pretrained models', fontsize=10)\n",
        "    plt.ylabel('Prediction accuracy', fontsize=10)\n",
        "    plt.xticks(index, model, fontsize=10, rotation=30)\n",
        "    plt.title('Accuracy of each model')\n",
        "    plt.show()\n",
        "    \n",
        "plot_bar_x()"
      ],
      "metadata": {
        "colab": {
          "base_uri": "https://localhost:8080/",
          "height": 554
        },
        "id": "kf6NSODJW5ru",
        "outputId": "637e1eef-3301-464c-a025-fdeeccaa62d6"
      },
      "execution_count": 13,
      "outputs": [
        {
          "output_type": "display_data",
          "data": {
            "text/plain": [
              "<Figure size 640x480 with 1 Axes>"
            ],
            "image/png": "[encoded data removed]"
          },
          "metadata": {}
        }
      ]
    },
    {
      "cell_type": "code",
      "source": [],
      "metadata": {
        "id": "qmcBECIbY7-u"
      },
      "execution_count": null,
      "outputs": []
    }
  ],
  "metadata": {
    "kernelspec": {
      "display_name": "Python 3",
      "language": "python",
      "name": "python3"
    },
    "language_info": {
      "codemirror_mode": {
        "name": "ipython",
        "version": 3
      },
      "file_extension": ".py",
      "mimetype": "text/x-python",
      "name": "python",
      "nbconvert_exporter": "python",
      "pygments_lexer": "ipython3",
      "version": "3.7.1"
    },
    "colab": {
      "provenance": []
    }
  },
  "nbformat": 4,
  "nbformat_minor": 0
}